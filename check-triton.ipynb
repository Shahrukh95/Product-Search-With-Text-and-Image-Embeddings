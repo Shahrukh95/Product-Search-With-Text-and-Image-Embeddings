{
 "cells": [
  {
   "cell_type": "code",
   "execution_count": 18,
   "metadata": {},
   "outputs": [
    {
     "name": "stdout",
     "output_type": "stream",
     "text": [
      "[-0.3409501  -0.7467628  -0.06714214 ...  0.0640513  -0.00992554\n",
      "  0.11812457]\n"
     ]
    }
   ],
   "source": [
    "import tritonclient.http as httpclient\n",
    "import numpy as np\n",
    "from transformers import AutoTokenizer\n",
    "\n",
    "# Initialize tokenizer and Triton client\n",
    "tokenizer = AutoTokenizer.from_pretrained(\"WhereIsAI/UAE-Large-V1\")\n",
    "client = httpclient.InferenceServerClient(url=\"localhost:8000\")\n",
    "\n",
    "# Example input text\n",
    "text = \"a black thing\"\n",
    "inputs = tokenizer(text, return_tensors=\"np\")\n",
    "\n",
    "# Triton requires token_type_ids along with input_ids and attention_mask\n",
    "input_ids = httpclient.InferInput(\"input_ids\", inputs[\"input_ids\"].shape, \"INT64\")\n",
    "attention_mask = httpclient.InferInput(\"attention_mask\", inputs[\"attention_mask\"].shape, \"INT64\")\n",
    "\n",
    "# Ensure token_type_ids exist (some models use it, some don't)\n",
    "if \"token_type_ids\" not in inputs:\n",
    "    inputs[\"token_type_ids\"] = np.zeros_like(inputs[\"input_ids\"])\n",
    "\n",
    "token_type_ids = httpclient.InferInput(\"token_type_ids\", inputs[\"token_type_ids\"].shape, \"INT64\")\n",
    "\n",
    "# Set data for inputs\n",
    "input_ids.set_data_from_numpy(inputs[\"input_ids\"])\n",
    "attention_mask.set_data_from_numpy(inputs[\"attention_mask\"])\n",
    "token_type_ids.set_data_from_numpy(inputs[\"token_type_ids\"])\n",
    "\n",
    "# Define the output tensor\n",
    "outputs = httpclient.InferRequestedOutput(\"last_hidden_state\")\n",
    "\n",
    "# Send inference request\n",
    "response = client.infer(\"UAE-Large-V1\", inputs=[input_ids, attention_mask, token_type_ids], outputs=[outputs])\n",
    "\n",
    "# Print response\n",
    "print(response.as_numpy(\"last_hidden_state\")[0][0])\n"
   ]
  },
  {
   "cell_type": "code",
   "execution_count": null,
   "metadata": {},
   "outputs": [],
   "source": []
  }
 ],
 "metadata": {
  "kernelspec": {
   "display_name": "triton-env",
   "language": "python",
   "name": "python3"
  },
  "language_info": {
   "codemirror_mode": {
    "name": "ipython",
    "version": 3
   },
   "file_extension": ".py",
   "mimetype": "text/x-python",
   "name": "python",
   "nbconvert_exporter": "python",
   "pygments_lexer": "ipython3",
   "version": "3.10.12"
  }
 },
 "nbformat": 4,
 "nbformat_minor": 2
}
