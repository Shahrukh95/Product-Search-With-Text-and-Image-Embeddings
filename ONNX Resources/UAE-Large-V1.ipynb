{
 "cells": [
  {
   "cell_type": "code",
   "execution_count": null,
   "metadata": {},
   "outputs": [],
   "source": [
    "from angle_emb import Prompts\n",
    "from sentence_transformers import SentenceTransformer\n",
    "from scipy import spatial\n",
    "\n",
    "model = SentenceTransformer(\"WhereIsAI/UAE-Large-V1\").cuda()\n",
    "\n",
    "qv = model.encode(Prompts.C.format(text='a black thing'))\n",
    "doc_vecs = model.encode([\n",
    "    'Title of Product: Original Replacement Dell 130W Laptop Charger USB C Slim AC Power Adapter for Dell Xps 17,Precision 5550 5530 2in1,XPS 15 2in1 9575，DA130PM170 HA130PM170 0K00F5 K00F5 0M0H25 M0H25 T4V18\\nProduct Image Description: A black power bank, which is a portable charger used to charge electronic devices.\\nProduct Category: Laptop Accessories',\n",
    "    'Title of Product: Griffin Elevator Stand for Laptops - Lift Your Laptop to a Comfortable Viewing Height, Space Grey\\nProduct Image Description: A laptop computer sitting on a stand or a docking station.\\nProduct Category: Laptop Accessories'\n",
    "])\n",
    "\n",
    "for dv in doc_vecs:\n",
    "    print(1 - spatial.distance.cosine(qv, dv))\n"
   ]
  },
  {
   "cell_type": "code",
   "execution_count": null,
   "metadata": {},
   "outputs": [],
   "source": [
    "doc_vecs"
   ]
  },
  {
   "cell_type": "code",
   "execution_count": null,
   "metadata": {},
   "outputs": [],
   "source": [
    "# Save to ONNX"
   ]
  },
  {
   "cell_type": "code",
   "execution_count": null,
   "metadata": {},
   "outputs": [],
   "source": [
    "from transformers import AutoTokenizer\n",
    "from optimum.onnxruntime import ORTModelForFeatureExtraction\n",
    "\n",
    "model_checkpoint = \"WhereIsAI/UAE-Large-V1\"\n",
    "save_directory = \"onnx/\""
   ]
  },
  {
   "cell_type": "code",
   "execution_count": 4,
   "metadata": {},
   "outputs": [
    {
     "data": {
      "text/plain": [
       "('onnx/tokenizer_config.json',\n",
       " 'onnx/special_tokens_map.json',\n",
       " 'onnx/vocab.txt',\n",
       " 'onnx/added_tokens.json',\n",
       " 'onnx/tokenizer.json')"
      ]
     },
     "execution_count": 4,
     "metadata": {},
     "output_type": "execute_result"
    }
   ],
   "source": [
    "# Load a model from transformers and export it to ONNX\n",
    "ort_model = ORTModelForFeatureExtraction.from_pretrained(model_checkpoint, export=True)\n",
    "tokenizer = AutoTokenizer.from_pretrained(model_checkpoint)\n",
    "\n",
    "# Save the onnx model and tokenizer\n",
    "ort_model.save_pretrained(save_directory)\n",
    "tokenizer.save_pretrained(save_directory)"
   ]
  },
  {
   "cell_type": "code",
   "execution_count": null,
   "metadata": {},
   "outputs": [],
   "source": [
    "# Load ONNX - get embeddings"
   ]
  },
  {
   "cell_type": "code",
   "execution_count": 59,
   "metadata": {},
   "outputs": [
    {
     "data": {
      "text/plain": [
       "['Title of Product: Original Replacement Dell 130W Laptop Charger USB C Slim AC Power Adapter for Dell Xps 17,Precision 5550 5530 2in1,XPS 15 2in1 9575，DA130PM170 HA130PM170 0K00F5 K00F5 0M0H25 M0H25 T4V18\\nProduct Image Description: A black power bank, which is a portable charger used to charge electronic devices.\\nProduct Category: Laptop Accessories',\n",
       " 'Title of Product: Griffin Elevator Stand for Laptops - Lift Your Laptop to a Comfortable Viewing Height, Space Grey\\nProduct Image Description: A laptop computer sitting on a stand or a docking station.\\nProduct Category: Laptop Accessories']"
      ]
     },
     "execution_count": 59,
     "metadata": {},
     "output_type": "execute_result"
    }
   ],
   "source": [
    "import pandas as pd\n",
    "df_products = pd.read_csv(\"final_products.csv\")\n",
    "result_array = df_products.apply(lambda row: f\"Title of Product: {row['title']}\\nProduct Image Description: {row['llava_generated_image_caption']}\\nProduct Category: {row['category_name']}\", axis=1).tolist()\n",
    "result_array[:2]"
   ]
  },
  {
   "cell_type": "code",
   "execution_count": 61,
   "metadata": {},
   "outputs": [],
   "source": [
    "from transformers import AutoTokenizer\n",
    "from onnxruntime import InferenceSession\n",
    "\n",
    "\n",
    "\n",
    "tokenizer = AutoTokenizer.from_pretrained(\"WhereIsAI/UAE-Large-V1\")\n",
    "\n",
    "outputs = []\n",
    "inputs = [\n",
    "    'Title of Product: Original Replacement Dell 130W Laptop Charger USB C Slim AC Power Adapter for Dell Xps 17,Precision 5550 5530 2in1,XPS 15 2in1 9575，DA130PM170 HA130PM170 0K00F5 K00F5 0M0H25 M0H25 T4V18\\nProduct Image Description: A black power bank, which is a portable charger used to charge electronic devices.\\nProduct Category: Laptop Accessories',\n",
    "    'Title of Product: Griffin Elevator Stand for Laptops - Lift Your Laptop to a Comfortable Viewing Height, Space Grey\\nProduct Image Description: A laptop computer sitting on a stand or a docking station.\\nProduct Category: Laptop Accessories'\n",
    "]\n",
    "\n",
    "session = InferenceSession(\"onnx/model.onnx\")\n",
    "\n",
    "query_string = tokenizer(str(\"a black thing\"), return_tensors=\"np\")\n",
    "query_embedding = session.run(output_names=[\"last_hidden_state\"], input_feed=dict(query_string))\n",
    "\n",
    "for item in inputs:\n",
    "    input_tokens = tokenizer(str(item), return_tensors=\"np\")\n",
    "    # print(item)\n",
    "    outputs.append(session.run(output_names=[\"last_hidden_state\"], input_feed=dict(input_tokens)))\n",
    "\n"
   ]
  },
  {
   "cell_type": "code",
   "execution_count": null,
   "metadata": {},
   "outputs": [],
   "source": [
    "item_number = 0\n",
    "outputs[item_number][0][0][0]"
   ]
  },
  {
   "cell_type": "code",
   "execution_count": null,
   "metadata": {},
   "outputs": [],
   "source": [
    "query_embedding[0][0][0]"
   ]
  },
  {
   "cell_type": "code",
   "execution_count": 64,
   "metadata": {},
   "outputs": [
    {
     "name": "stdout",
     "output_type": "stream",
     "text": [
      "0.5139134\n",
      "0.5181762\n"
     ]
    }
   ],
   "source": [
    "from scipy import spatial\n",
    "\n",
    "for dv in outputs:\n",
    "    print(1 - spatial.distance.cosine(query_embedding[0][0][0], dv[0][0][0]))\n",
    "    # print(dv[0][0][0])"
   ]
  },
  {
   "cell_type": "code",
   "execution_count": null,
   "metadata": {},
   "outputs": [],
   "source": []
  }
 ],
 "metadata": {
  "kernelspec": {
   "display_name": "triton-env",
   "language": "python",
   "name": "python3"
  },
  "language_info": {
   "codemirror_mode": {
    "name": "ipython",
    "version": 3
   },
   "file_extension": ".py",
   "mimetype": "text/x-python",
   "name": "python",
   "nbconvert_exporter": "python",
   "pygments_lexer": "ipython3",
   "version": "3.10.12"
  }
 },
 "nbformat": 4,
 "nbformat_minor": 2
}
