{
 "cells": [
  {
   "cell_type": "code",
   "execution_count": 16,
   "metadata": {},
   "outputs": [
    {
     "name": "stdout",
     "output_type": "stream",
     "text": [
      "Successfully downgraded ONNX IR version to 9!\n"
     ]
    }
   ],
   "source": [
    "# DOwnload the onnx model from hugging face (configs too)\n",
    "#  Then downgrade a version because the used triton version does not support the ONNX IR version 10\n",
    "\n",
    "import onnx\n",
    "\n",
    "# Load the ONNX model\n",
    "model_path = \"/workspace/onnx-nomic-embed-v1.5/model.onnx\"\n",
    "onnx_model = onnx.load(model_path)\n",
    "\n",
    "# Set IR version to 9\n",
    "onnx_model.ir_version = 9\n",
    "\n",
    "# Save the updated model\n",
    "onnx.save(onnx_model, \"/workspace/onnx-nomic-embed-v1.5/model_ir9.onnx\")\n",
    "\n",
    "print(\"Successfully downgraded ONNX IR version to 9!\")\n"
   ]
  },
  {
   "cell_type": "code",
   "execution_count": null,
   "metadata": {},
   "outputs": [],
   "source": [
    "import onnxruntime as ort\n",
    "import numpy as np\n",
    "import torch\n",
    "import torch.nn.functional as F\n",
    "from transformers import AutoImageProcessor\n",
    "from PIL import Image\n",
    "import requests\n",
    "\n",
    "# Load the image processor using the preprocessor config\n",
    "processor = AutoImageProcessor.from_pretrained(\"/workspace/onnx-nomic-embed-v1.5\")\n",
    "\n",
    "# Load the ONNX model\n",
    "onnx_model_path = \"/workspace/onnx-nomic-embed-v1.5/model.onnx\"\n",
    "session = ort.InferenceSession(onnx_model_path)\n",
    "\n",
    "# Load an image\n",
    "url = 'https://m.media-amazon.com/images/I/61sADwl+YWL._AC_UL320_.jpg'\n",
    "image = Image.open(requests.get(url, stream=True).raw)\n",
    "\n",
    "# Preprocess the image\n",
    "inputs = processor(image, return_tensors=\"np\")\n",
    "onnx_inputs = {session.get_inputs()[0].name: inputs[\"pixel_values\"]}\n",
    "\n",
    "# Run inference\n",
    "onnx_outputs = session.run(None, onnx_inputs)\n",
    "\n",
    "# Extract and normalize embeddings\n",
    "img_emb = torch.tensor(onnx_outputs[0])\n",
    "img_embeddings = F.normalize(img_emb[:, 0], p=2, dim=1)\n",
    "\n",
    "# print(\"Image Embeddings:\", img_embeddings.shape)\n",
    "img_embeddings"
   ]
  },
  {
   "cell_type": "code",
   "execution_count": null,
   "metadata": {},
   "outputs": [],
   "source": []
  },
  {
   "cell_type": "code",
   "execution_count": null,
   "metadata": {},
   "outputs": [],
   "source": []
  }
 ],
 "metadata": {
  "kernelspec": {
   "display_name": "triton-env",
   "language": "python",
   "name": "python3"
  },
  "language_info": {
   "codemirror_mode": {
    "name": "ipython",
    "version": 3
   },
   "file_extension": ".py",
   "mimetype": "text/x-python",
   "name": "python",
   "nbconvert_exporter": "python",
   "pygments_lexer": "ipython3",
   "version": "3.10.12"
  }
 },
 "nbformat": 4,
 "nbformat_minor": 2
}
