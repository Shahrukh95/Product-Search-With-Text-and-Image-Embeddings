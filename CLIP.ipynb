{
 "cells": [
  {
   "cell_type": "code",
   "execution_count": null,
   "id": "02a7cea0-d49c-4cf9-9019-81f1b283c153",
   "metadata": {
    "scrolled": true
   },
   "outputs": [],
   "source": [
    "# import faiss\n",
    "import numpy as np\n",
    "import torch\n",
    "from transformers import CLIPProcessor, CLIPModel\n",
    "from PIL import Image\n",
    "\n",
    "# Load CLIP model\n",
    "model = CLIPModel.from_pretrained(\"openai/clip-vit-base-patch32\")\n",
    "processor = CLIPProcessor.from_pretrained(\"openai/clip-vit-base-patch32\")\n",
    "\n",
    "# Image dataset\n",
    "image_paths = [\"B00O5YHPFU.jpg\"]\n",
    "image_embeddings = []\n",
    "\n",
    "# Process each image\n",
    "for img_path in image_paths:\n",
    "    image = Image.open(img_path)\n",
    "    inputs = processor(images=image, return_tensors=\"pt\")\n",
    "\n",
    "    with torch.no_grad():\n",
    "        image_embed = model.get_image_features(**inputs).cpu().numpy()\n",
    "\n",
    "    image_embeddings.append(image_embed)\n",
    "\n",
    "# Convert to numpy array\n",
    "image_embeddings = np.vstack(image_embeddings)\n",
    "\n",
    "print(image_embeddings)\n",
    "\n",
    "# # Create FAISS index (L2 distance for similarity)\n",
    "# index = faiss.IndexFlatL2(image_embeddings.shape[1])\n",
    "# index.add(image_embeddings)\n",
    "\n",
    "# # Save index to disk\n",
    "# faiss.write_index(index, \"image_index.faiss\")\n",
    "# np.save(\"image_paths.npy\", np.array(image_paths))  # Save image paths for retrieval\n"
   ]
  },
  {
   "cell_type": "code",
   "execution_count": null,
   "id": "422eba1f-b3d4-4853-a2e6-279acc98e50b",
   "metadata": {
    "scrolled": true
   },
   "outputs": [],
   "source": [
    "import torch\n",
    "from transformers import CLIPProcessor, CLIPModel\n",
    "from PIL import Image\n",
    "import numpy as np\n",
    "import faiss  # For fast similarity search\n",
    "\n",
    "# Load CLIP model\n",
    "model = CLIPModel.from_pretrained(\"openai/clip-vit-large-patch14\")\n",
    "processor = CLIPProcessor.from_pretrained(\"openai/clip-vit-large-patch14\")\n",
    "\n",
    "# Example dataset of 500 images + texts\n",
    "images = [\"B00O5YHPFU.jpg\"]\n",
    "texts = [\"A blue tape wrapped in duct tape\"]\n",
    "\n",
    "# Generate embeddings\n",
    "image_embeddings = []\n",
    "text_embeddings = []\n",
    "\n",
    "for img_path, text in zip(images, texts):\n",
    "    image = Image.open(img_path)\n",
    "    inputs = processor(text=[text], images=image, return_tensors=\"pt\", padding=True)\n",
    "\n",
    "    with torch.no_grad():\n",
    "        outputs = model(**inputs)\n",
    "        image_embed = outputs.image_embeds.cpu().numpy()\n",
    "        text_embed = outputs.text_embeds.cpu().numpy()\n",
    "\n",
    "    image_embeddings.append(image_embed)\n",
    "    text_embeddings.append(text_embed)\n",
    "\n",
    "# Convert to numpy arrays\n",
    "image_embeddings = np.vstack(image_embeddings)\n",
    "text_embeddings = np.vstack(text_embeddings)\n",
    "\n",
    "print(image_embeddings)\n",
    "print(text_embeddings)\n",
    "\n",
    "# Store embeddings in FAISS for fast search\n",
    "index = faiss.IndexFlatL2(image_embeddings.shape[1])  # L2 (Euclidean distance) index\n",
    "index.add(image_embeddings)  # Store images\n",
    "faiss.write_index(index, \"image_index.faiss\")  # Save index\n",
    "\n",
    "np.save(\"text_embeddings.npy\", text_embeddings)  # Save text embeddings separately\n"
   ]
  },
  {
   "cell_type": "code",
   "execution_count": null,
   "id": "53d73ab3-51f4-406b-973f-9604839660d8",
   "metadata": {},
   "outputs": [],
   "source": [
    "def search_image(image_path, top_k=5):\n",
    "    \"\"\"Search using an image query\"\"\"\n",
    "    image = Image.open(image_path)\n",
    "    inputs = processor(images=image, return_tensors=\"pt\")\n",
    "\n",
    "    with torch.no_grad():\n",
    "        query_embed = model.get_image_features(**inputs).cpu().numpy()\n",
    "\n",
    "    index = faiss.read_index(\"image_index.faiss\")\n",
    "    distances, indices = index.search(query_embed, top_k)  # Get top K matches\n",
    "    return indices\n",
    "\n",
    "def search_text(text_query, top_k=5):\n",
    "    \"\"\"Search using a text query\"\"\"\n",
    "    inputs = processor(text=[text_query], return_tensors=\"pt\")\n",
    "\n",
    "    with torch.no_grad():\n",
    "        query_embed = model.get_text_features(**inputs).cpu().numpy()\n",
    "\n",
    "    index = faiss.read_index(\"image_index.faiss\")\n",
    "    distances, indices = index.search(query_embed, top_k)\n",
    "    return indices\n",
    "\n",
    "# Example usage\n",
    "image_results = search_image(\"B00O5YHPFU.jpg\")\n",
    "text_results = search_text(\"dcut tape\")\n",
    "print(\"Image search results:\", image_results)\n",
    "print(\"Text search results:\", text_results)\n"
   ]
  },
  {
   "cell_type": "code",
   "execution_count": null,
   "id": "aaa8a4b6-5024-461f-bd09-ee678a51f9d4",
   "metadata": {
    "scrolled": true
   },
   "outputs": [],
   "source": [
    "!pip install transformers\n",
    "!pip install accelerate>=0.26.0\n",
    "!pip install --upgrade ipywidgets\n",
    "!pip install --upgrade jupyter\n",
    "!pip install bitsandbytes\n",
    "!pip install --upgrade typing_extensions"
   ]
  },
  {
   "cell_type": "code",
   "execution_count": 2,
   "id": "c0fad0b5-4854-401a-9503-52cb6a5a2213",
   "metadata": {},
   "outputs": [
    {
     "name": "stdout",
     "output_type": "stream",
     "text": [
      "\u001b[31mERROR: Could not find a version that satisfies the requirement faiss (from versions: none)\u001b[0m\u001b[31m\n",
      "\u001b[0m\u001b[31mERROR: No matching distribution found for faiss\u001b[0m\u001b[31m\n",
      "\u001b[0m\n",
      "\u001b[1m[\u001b[0m\u001b[34;49mnotice\u001b[0m\u001b[1;39;49m]\u001b[0m\u001b[39;49m A new release of pip is available: \u001b[0m\u001b[31;49m23.3.1\u001b[0m\u001b[39;49m -> \u001b[0m\u001b[32;49m25.0.1\u001b[0m\n",
      "\u001b[1m[\u001b[0m\u001b[34;49mnotice\u001b[0m\u001b[1;39;49m]\u001b[0m\u001b[39;49m To update, run: \u001b[0m\u001b[32;49mpython -m pip install --upgrade pip\u001b[0m\n"
     ]
    }
   ],
   "source": [
    "!pip install faiss"
   ]
  },
  {
   "cell_type": "code",
   "execution_count": null,
   "id": "f77c9b9a-34f6-41fa-9da1-8c101f8052ee",
   "metadata": {},
   "outputs": [],
   "source": [
    "pip install faiss-gpu\n"
   ]
  },
  {
   "cell_type": "code",
   "execution_count": null,
   "id": "5d7e7dee-bb2a-46c5-b546-975adaba797e",
   "metadata": {},
   "outputs": [],
   "source": []
  }
 ],
 "metadata": {
  "kernelspec": {
   "display_name": "Python 3 (ipykernel)",
   "language": "python",
   "name": "python3"
  },
  "language_info": {
   "codemirror_mode": {
    "name": "ipython",
    "version": 3
   },
   "file_extension": ".py",
   "mimetype": "text/x-python",
   "name": "python",
   "nbconvert_exporter": "python",
   "pygments_lexer": "ipython3",
   "version": "3.10.12"
  }
 },
 "nbformat": 4,
 "nbformat_minor": 5
}
