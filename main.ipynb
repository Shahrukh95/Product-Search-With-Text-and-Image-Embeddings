{
 "cells": [
  {
   "cell_type": "code",
   "execution_count": 1,
   "metadata": {},
   "outputs": [],
   "source": [
    "import pandas as pd\n",
    "import requests\n",
    "import matplotlib.pyplot as plt\n",
    "import numpy as np"
   ]
  },
  {
   "cell_type": "code",
   "execution_count": 2,
   "metadata": {},
   "outputs": [],
   "source": [
    "df_amazon = pd.read_csv('dataset/textual/raw/amazon_products.csv')\n",
    "df_categories = pd.read_csv('dataset/textual/raw/amazon_categories.csv')"
   ]
  },
  {
   "cell_type": "code",
   "execution_count": 3,
   "metadata": {},
   "outputs": [],
   "source": [
    "PRODUCTS_PER_CATEGORY = 1000"
   ]
  },
  {
   "cell_type": "code",
   "execution_count": 4,
   "metadata": {},
   "outputs": [
    {
     "data": {
      "text/html": [
       "<div>\n",
       "<style scoped>\n",
       "    .dataframe tbody tr th:only-of-type {\n",
       "        vertical-align: middle;\n",
       "    }\n",
       "\n",
       "    .dataframe tbody tr th {\n",
       "        vertical-align: top;\n",
       "    }\n",
       "\n",
       "    .dataframe thead th {\n",
       "        text-align: right;\n",
       "    }\n",
       "</style>\n",
       "<table border=\"1\" class=\"dataframe\">\n",
       "  <thead>\n",
       "    <tr style=\"text-align: right;\">\n",
       "      <th></th>\n",
       "      <th>asin</th>\n",
       "      <th>title</th>\n",
       "      <th>imgUrl</th>\n",
       "      <th>productURL</th>\n",
       "      <th>stars</th>\n",
       "      <th>reviews</th>\n",
       "      <th>price</th>\n",
       "      <th>listPrice</th>\n",
       "      <th>category_id</th>\n",
       "      <th>isBestSeller</th>\n",
       "      <th>boughtInLastMonth</th>\n",
       "    </tr>\n",
       "  </thead>\n",
       "  <tbody>\n",
       "    <tr>\n",
       "      <th>0</th>\n",
       "      <td>B014TMV5YE</td>\n",
       "      <td>Sion Softside Expandable Roller Luggage, Black...</td>\n",
       "      <td>https://m.media-amazon.com/images/I/815dLQKYIY...</td>\n",
       "      <td>https://www.amazon.com/dp/B014TMV5YE</td>\n",
       "      <td>4.5</td>\n",
       "      <td>0</td>\n",
       "      <td>139.99</td>\n",
       "      <td>0.00</td>\n",
       "      <td>104</td>\n",
       "      <td>False</td>\n",
       "      <td>2000</td>\n",
       "    </tr>\n",
       "    <tr>\n",
       "      <th>1</th>\n",
       "      <td>B07GDLCQXV</td>\n",
       "      <td>Luggage Sets Expandable PC+ABS Durable Suitcas...</td>\n",
       "      <td>https://m.media-amazon.com/images/I/81bQlm7vf6...</td>\n",
       "      <td>https://www.amazon.com/dp/B07GDLCQXV</td>\n",
       "      <td>4.5</td>\n",
       "      <td>0</td>\n",
       "      <td>169.99</td>\n",
       "      <td>209.99</td>\n",
       "      <td>104</td>\n",
       "      <td>False</td>\n",
       "      <td>1000</td>\n",
       "    </tr>\n",
       "  </tbody>\n",
       "</table>\n",
       "</div>"
      ],
      "text/plain": [
       "         asin                                              title  \\\n",
       "0  B014TMV5YE  Sion Softside Expandable Roller Luggage, Black...   \n",
       "1  B07GDLCQXV  Luggage Sets Expandable PC+ABS Durable Suitcas...   \n",
       "\n",
       "                                              imgUrl  \\\n",
       "0  https://m.media-amazon.com/images/I/815dLQKYIY...   \n",
       "1  https://m.media-amazon.com/images/I/81bQlm7vf6...   \n",
       "\n",
       "                             productURL  stars  reviews   price  listPrice  \\\n",
       "0  https://www.amazon.com/dp/B014TMV5YE    4.5        0  139.99       0.00   \n",
       "1  https://www.amazon.com/dp/B07GDLCQXV    4.5        0  169.99     209.99   \n",
       "\n",
       "   category_id  isBestSeller  boughtInLastMonth  \n",
       "0          104         False               2000  \n",
       "1          104         False               1000  "
      ]
     },
     "execution_count": 4,
     "metadata": {},
     "output_type": "execute_result"
    }
   ],
   "source": [
    "df_amazon.head(2)"
   ]
  },
  {
   "cell_type": "code",
   "execution_count": 5,
   "metadata": {},
   "outputs": [
    {
     "data": {
      "text/html": [
       "<div>\n",
       "<style scoped>\n",
       "    .dataframe tbody tr th:only-of-type {\n",
       "        vertical-align: middle;\n",
       "    }\n",
       "\n",
       "    .dataframe tbody tr th {\n",
       "        vertical-align: top;\n",
       "    }\n",
       "\n",
       "    .dataframe thead th {\n",
       "        text-align: right;\n",
       "    }\n",
       "</style>\n",
       "<table border=\"1\" class=\"dataframe\">\n",
       "  <thead>\n",
       "    <tr style=\"text-align: right;\">\n",
       "      <th></th>\n",
       "      <th>asin</th>\n",
       "      <th>title</th>\n",
       "      <th>imgUrl</th>\n",
       "      <th>productURL</th>\n",
       "      <th>stars</th>\n",
       "      <th>reviews</th>\n",
       "      <th>price</th>\n",
       "      <th>category_id</th>\n",
       "      <th>isBestSeller</th>\n",
       "      <th>boughtInLastMonth</th>\n",
       "    </tr>\n",
       "  </thead>\n",
       "  <tbody>\n",
       "    <tr>\n",
       "      <th>0</th>\n",
       "      <td>B014TMV5YE</td>\n",
       "      <td>Sion Softside Expandable Roller Luggage, Black...</td>\n",
       "      <td>https://m.media-amazon.com/images/I/815dLQKYIY...</td>\n",
       "      <td>https://www.amazon.com/dp/B014TMV5YE</td>\n",
       "      <td>4.5</td>\n",
       "      <td>0</td>\n",
       "      <td>139.99</td>\n",
       "      <td>104</td>\n",
       "      <td>False</td>\n",
       "      <td>2000</td>\n",
       "    </tr>\n",
       "    <tr>\n",
       "      <th>1</th>\n",
       "      <td>B07GDLCQXV</td>\n",
       "      <td>Luggage Sets Expandable PC+ABS Durable Suitcas...</td>\n",
       "      <td>https://m.media-amazon.com/images/I/81bQlm7vf6...</td>\n",
       "      <td>https://www.amazon.com/dp/B07GDLCQXV</td>\n",
       "      <td>4.5</td>\n",
       "      <td>0</td>\n",
       "      <td>169.99</td>\n",
       "      <td>104</td>\n",
       "      <td>False</td>\n",
       "      <td>1000</td>\n",
       "    </tr>\n",
       "  </tbody>\n",
       "</table>\n",
       "</div>"
      ],
      "text/plain": [
       "         asin                                              title  \\\n",
       "0  B014TMV5YE  Sion Softside Expandable Roller Luggage, Black...   \n",
       "1  B07GDLCQXV  Luggage Sets Expandable PC+ABS Durable Suitcas...   \n",
       "\n",
       "                                              imgUrl  \\\n",
       "0  https://m.media-amazon.com/images/I/815dLQKYIY...   \n",
       "1  https://m.media-amazon.com/images/I/81bQlm7vf6...   \n",
       "\n",
       "                             productURL  stars  reviews   price  category_id  \\\n",
       "0  https://www.amazon.com/dp/B014TMV5YE    4.5        0  139.99          104   \n",
       "1  https://www.amazon.com/dp/B07GDLCQXV    4.5        0  169.99          104   \n",
       "\n",
       "   isBestSeller  boughtInLastMonth  \n",
       "0         False               2000  \n",
       "1         False               1000  "
      ]
     },
     "execution_count": 5,
     "metadata": {},
     "output_type": "execute_result"
    }
   ],
   "source": [
    "df_amazon.drop(columns=['listPrice'], inplace=True)\n",
    "df_amazon.head(2)"
   ]
  },
  {
   "cell_type": "code",
   "execution_count": 6,
   "metadata": {},
   "outputs": [
    {
     "data": {
      "text/plain": [
       "category_id\n",
       "91     28619\n",
       "84     24660\n",
       "270    20846\n",
       "114    19822\n",
       "118    18994\n",
       "       ...  \n",
       "195       76\n",
       "186       50\n",
       "185       42\n",
       "102       40\n",
       "194       22\n",
       "Name: count, Length: 248, dtype: int64"
      ]
     },
     "execution_count": 6,
     "metadata": {},
     "output_type": "execute_result"
    }
   ],
   "source": [
    "category_counts = df_amazon['category_id'].value_counts()\n",
    "category_counts"
   ]
  },
  {
   "cell_type": "code",
   "execution_count": 7,
   "metadata": {},
   "outputs": [
    {
     "data": {
      "text/html": [
       "<div>\n",
       "<style scoped>\n",
       "    .dataframe tbody tr th:only-of-type {\n",
       "        vertical-align: middle;\n",
       "    }\n",
       "\n",
       "    .dataframe tbody tr th {\n",
       "        vertical-align: top;\n",
       "    }\n",
       "\n",
       "    .dataframe thead th {\n",
       "        text-align: right;\n",
       "    }\n",
       "</style>\n",
       "<table border=\"1\" class=\"dataframe\">\n",
       "  <thead>\n",
       "    <tr style=\"text-align: right;\">\n",
       "      <th></th>\n",
       "      <th>category_id</th>\n",
       "      <th>category_name</th>\n",
       "    </tr>\n",
       "  </thead>\n",
       "  <tbody>\n",
       "    <tr>\n",
       "      <th>0</th>\n",
       "      <td>18</td>\n",
       "      <td>Automotive Performance Parts &amp; Accessories</td>\n",
       "    </tr>\n",
       "    <tr>\n",
       "      <th>1</th>\n",
       "      <td>270</td>\n",
       "      <td>Toys &amp; Games</td>\n",
       "    </tr>\n",
       "  </tbody>\n",
       "</table>\n",
       "</div>"
      ],
      "text/plain": [
       "   category_id                               category_name\n",
       "0           18  Automotive Performance Parts & Accessories\n",
       "1          270                                Toys & Games"
      ]
     },
     "execution_count": 7,
     "metadata": {},
     "output_type": "execute_result"
    }
   ],
   "source": [
    "# SELECT CATEGORIES WITH MORE THAN (THE DEFINED NUMBER OF) PRODUCTS\n",
    "valid_categories = category_counts[category_counts > PRODUCTS_PER_CATEGORY].index\n",
    "\n",
    "# CREATE A LIST OF CATEGORIES. PICK 20 FROM THEM AND SAVE TO CSV - MANUALLY.\n",
    "# choose_cateogies = pd.DataFrame(valid_categories, columns=['category_id']).merge(df_categories, left_on='category_id', right_on='id', how='left').reset_index(drop=True).drop(columns=['id'])\n",
    "# choose_cateogies.to_csv('dataset/textual/temp/choose_categories.csv', index=False)\n",
    "\n",
    "valid_categories = pd.read_csv('dataset/textual/filtered/chosen_categories.csv')\n",
    "valid_categories.head(2)"
   ]
  },
  {
   "cell_type": "code",
   "execution_count": 8,
   "metadata": {},
   "outputs": [
    {
     "name": "stderr",
     "output_type": "stream",
     "text": [
      "C:\\Users\\ShahrukhAzharAhsan\\AppData\\Local\\Temp\\ipykernel_20088\\1394958067.py:2: DeprecationWarning: DataFrameGroupBy.apply operated on the grouping columns. This behavior is deprecated, and in a future version of pandas the grouping columns will be excluded from the operation. Either pass `include_groups=False` to exclude the groupings or explicitly select the grouping columns after groupby to silence this warning.\n",
      "  selected_products = df_amazon[df_amazon['category_id'].isin(valid_categories['category_id'])].groupby('category_id').apply(lambda x: x.sample(n=PRODUCTS_PER_CATEGORY)).reset_index(drop=True)\n"
     ]
    },
    {
     "data": {
      "text/html": [
       "<div>\n",
       "<style scoped>\n",
       "    .dataframe tbody tr th:only-of-type {\n",
       "        vertical-align: middle;\n",
       "    }\n",
       "\n",
       "    .dataframe tbody tr th {\n",
       "        vertical-align: top;\n",
       "    }\n",
       "\n",
       "    .dataframe thead th {\n",
       "        text-align: right;\n",
       "    }\n",
       "</style>\n",
       "<table border=\"1\" class=\"dataframe\">\n",
       "  <thead>\n",
       "    <tr style=\"text-align: right;\">\n",
       "      <th></th>\n",
       "      <th>asin</th>\n",
       "      <th>title</th>\n",
       "      <th>imgUrl</th>\n",
       "      <th>productURL</th>\n",
       "      <th>stars</th>\n",
       "      <th>reviews</th>\n",
       "      <th>price</th>\n",
       "      <th>category_id</th>\n",
       "      <th>isBestSeller</th>\n",
       "      <th>boughtInLastMonth</th>\n",
       "    </tr>\n",
       "  </thead>\n",
       "  <tbody>\n",
       "    <tr>\n",
       "      <th>0</th>\n",
       "      <td>B0BNNL4Y18</td>\n",
       "      <td>Red Cardinal Latch Hook Kits Rug Embroidery Ki...</td>\n",
       "      <td>https://m.media-amazon.com/images/I/61QxYxoimP...</td>\n",
       "      <td>https://www.amazon.com/dp/B0BNNL4Y18</td>\n",
       "      <td>5.0</td>\n",
       "      <td>0</td>\n",
       "      <td>16.99</td>\n",
       "      <td>8</td>\n",
       "      <td>False</td>\n",
       "      <td>0</td>\n",
       "    </tr>\n",
       "    <tr>\n",
       "      <th>1</th>\n",
       "      <td>B08N9CWS66</td>\n",
       "      <td>Whichelt 14 ct. Premium Aida Cloth - Antique W...</td>\n",
       "      <td>https://m.media-amazon.com/images/I/61T8PPb2wS...</td>\n",
       "      <td>https://www.amazon.com/dp/B08N9CWS66</td>\n",
       "      <td>5.0</td>\n",
       "      <td>0</td>\n",
       "      <td>18.08</td>\n",
       "      <td>8</td>\n",
       "      <td>False</td>\n",
       "      <td>0</td>\n",
       "    </tr>\n",
       "  </tbody>\n",
       "</table>\n",
       "</div>"
      ],
      "text/plain": [
       "         asin                                              title  \\\n",
       "0  B0BNNL4Y18  Red Cardinal Latch Hook Kits Rug Embroidery Ki...   \n",
       "1  B08N9CWS66  Whichelt 14 ct. Premium Aida Cloth - Antique W...   \n",
       "\n",
       "                                              imgUrl  \\\n",
       "0  https://m.media-amazon.com/images/I/61QxYxoimP...   \n",
       "1  https://m.media-amazon.com/images/I/61T8PPb2wS...   \n",
       "\n",
       "                             productURL  stars  reviews  price  category_id  \\\n",
       "0  https://www.amazon.com/dp/B0BNNL4Y18    5.0        0  16.99            8   \n",
       "1  https://www.amazon.com/dp/B08N9CWS66    5.0        0  18.08            8   \n",
       "\n",
       "   isBestSeller  boughtInLastMonth  \n",
       "0         False                  0  \n",
       "1         False                  0  "
      ]
     },
     "execution_count": 8,
     "metadata": {},
     "output_type": "execute_result"
    }
   ],
   "source": [
    "# SELECT PRODUCTS FROM THE SELECTED CATEGORIES\n",
    "selected_products = df_amazon[df_amazon['category_id'].isin(valid_categories['category_id'])].groupby('category_id').apply(lambda x: x.sample(n=PRODUCTS_PER_CATEGORY)).reset_index(drop=True)\n",
    "selected_products.head(2)"
   ]
  },
  {
   "cell_type": "code",
   "execution_count": 9,
   "metadata": {},
   "outputs": [
    {
     "data": {
      "text/plain": [
       "(20000, 10)"
      ]
     },
     "execution_count": 9,
     "metadata": {},
     "output_type": "execute_result"
    }
   ],
   "source": [
    "selected_products.shape"
   ]
  },
  {
   "cell_type": "code",
   "execution_count": 10,
   "metadata": {},
   "outputs": [
    {
     "data": {
      "text/plain": [
       "(20,)"
      ]
     },
     "execution_count": 10,
     "metadata": {},
     "output_type": "execute_result"
    }
   ],
   "source": [
    "# CHECK THE NUMBER OF CATEGORIES\n",
    "selected_products.groupby('category_id').size().shape"
   ]
  },
  {
   "cell_type": "code",
   "execution_count": 11,
   "metadata": {},
   "outputs": [
    {
     "data": {
      "text/html": [
       "<div>\n",
       "<style scoped>\n",
       "    .dataframe tbody tr th:only-of-type {\n",
       "        vertical-align: middle;\n",
       "    }\n",
       "\n",
       "    .dataframe tbody tr th {\n",
       "        vertical-align: top;\n",
       "    }\n",
       "\n",
       "    .dataframe thead th {\n",
       "        text-align: right;\n",
       "    }\n",
       "</style>\n",
       "<table border=\"1\" class=\"dataframe\">\n",
       "  <thead>\n",
       "    <tr style=\"text-align: right;\">\n",
       "      <th></th>\n",
       "      <th>asin</th>\n",
       "      <th>title</th>\n",
       "      <th>imgUrl</th>\n",
       "      <th>productURL</th>\n",
       "      <th>stars</th>\n",
       "      <th>reviews</th>\n",
       "      <th>price</th>\n",
       "      <th>category_id</th>\n",
       "      <th>isBestSeller</th>\n",
       "      <th>boughtInLastMonth</th>\n",
       "      <th>id</th>\n",
       "      <th>category_name</th>\n",
       "    </tr>\n",
       "  </thead>\n",
       "  <tbody>\n",
       "    <tr>\n",
       "      <th>0</th>\n",
       "      <td>B0BNNL4Y18</td>\n",
       "      <td>Red Cardinal Latch Hook Kits Rug Embroidery Ki...</td>\n",
       "      <td>https://m.media-amazon.com/images/I/61QxYxoimP...</td>\n",
       "      <td>https://www.amazon.com/dp/B0BNNL4Y18</td>\n",
       "      <td>5.0</td>\n",
       "      <td>0</td>\n",
       "      <td>16.99</td>\n",
       "      <td>8</td>\n",
       "      <td>False</td>\n",
       "      <td>0</td>\n",
       "      <td>8</td>\n",
       "      <td>Needlework Supplies</td>\n",
       "    </tr>\n",
       "    <tr>\n",
       "      <th>1</th>\n",
       "      <td>B08N9CWS66</td>\n",
       "      <td>Whichelt 14 ct. Premium Aida Cloth - Antique W...</td>\n",
       "      <td>https://m.media-amazon.com/images/I/61T8PPb2wS...</td>\n",
       "      <td>https://www.amazon.com/dp/B08N9CWS66</td>\n",
       "      <td>5.0</td>\n",
       "      <td>0</td>\n",
       "      <td>18.08</td>\n",
       "      <td>8</td>\n",
       "      <td>False</td>\n",
       "      <td>0</td>\n",
       "      <td>8</td>\n",
       "      <td>Needlework Supplies</td>\n",
       "    </tr>\n",
       "  </tbody>\n",
       "</table>\n",
       "</div>"
      ],
      "text/plain": [
       "         asin                                              title  \\\n",
       "0  B0BNNL4Y18  Red Cardinal Latch Hook Kits Rug Embroidery Ki...   \n",
       "1  B08N9CWS66  Whichelt 14 ct. Premium Aida Cloth - Antique W...   \n",
       "\n",
       "                                              imgUrl  \\\n",
       "0  https://m.media-amazon.com/images/I/61QxYxoimP...   \n",
       "1  https://m.media-amazon.com/images/I/61T8PPb2wS...   \n",
       "\n",
       "                             productURL  stars  reviews  price  category_id  \\\n",
       "0  https://www.amazon.com/dp/B0BNNL4Y18    5.0        0  16.99            8   \n",
       "1  https://www.amazon.com/dp/B08N9CWS66    5.0        0  18.08            8   \n",
       "\n",
       "   isBestSeller  boughtInLastMonth  id        category_name  \n",
       "0         False                  0   8  Needlework Supplies  \n",
       "1         False                  0   8  Needlework Supplies  "
      ]
     },
     "execution_count": 11,
     "metadata": {},
     "output_type": "execute_result"
    }
   ],
   "source": [
    "# GET THE CATEGORY NAMES FOR THE SELECTED PRODUCTS\n",
    "selected_products = selected_products.merge(df_categories, left_on='category_id', right_on='id',how='left').reset_index(drop=True)\n",
    "selected_products.head(2)"
   ]
  },
  {
   "cell_type": "code",
   "execution_count": null,
   "metadata": {},
   "outputs": [
    {
     "data": {
      "text/plain": [
       "category_name\n",
       "Automotive Performance Parts & Accessories    1000\n",
       "Baby Diapering Products                       1000\n",
       "Cat Supplies                                  1000\n",
       "Food Service Equipment & Supplies             1000\n",
       "Headphones & Earbuds                          1000\n",
       "Horse Supplies                                1000\n",
       "Industrial Hardware                           1000\n",
       "Ironing Products                              1000\n",
       "Janitorial & Sanitation Supplies              1000\n",
       "Light Bulbs                                   1000\n",
       "Men's Clothing                                1000\n",
       "Needlework Supplies                           1000\n",
       "Outdoor Recreation                            1000\n",
       "Science Education Supplies                    1000\n",
       "Sexual Wellness Products                      1000\n",
       "Toys & Games                                  1000\n",
       "Video Games                                   1000\n",
       "Vision Products                               1000\n",
       "Wearable Technology                           1000\n",
       "Women's Handbags                              1000\n",
       "dtype: int64"
      ]
     },
     "execution_count": 14,
     "metadata": {},
     "output_type": "execute_result"
    }
   ],
   "source": [
    "# CHECK IF THERE ARE EQUAL NUMBER OF PRODUCTS IN EACH CATEGORY\n",
    "selected_products.groupby('category_name').size()"
   ]
  },
  {
   "cell_type": "markdown",
   "metadata": {},
   "source": [
    "Images"
   ]
  },
  {
   "cell_type": "code",
   "execution_count": 13,
   "metadata": {},
   "outputs": [
    {
     "name": "stdout",
     "output_type": "stream",
     "text": [
      "B0BNNL4Y18.jpg\n",
      "B08N9CWS66.jpg\n",
      "B06XCK5CXY.jpg\n",
      "B00OY0YDAA.jpg\n",
      "B00114TCJO.jpg\n",
      "B0CBJVG8RJ.jpg\n",
      "B0C7R5KZY8.jpg\n",
      "B0B6PSQ3XL.jpg\n",
      "B009F29FZA.jpg\n",
      "B003W17WBE.jpg\n"
     ]
    }
   ],
   "source": [
    "# SAVE THE IMAGES OF THE SELECTED PRODUCTS (AND RENAME THEM WITH THE ASIN)\n",
    "for row in selected_products[['imgUrl', 'asin']].head(10).itertuples():\n",
    "    image_link = row.imgUrl\n",
    "    # print(image_link)\n",
    "    renamed_image = row.asin + \".jpg\"\n",
    "    print(renamed_image)\n",
    "    img_data = requests.get(image_link).content\n",
    "    with open('dataset/images/' + renamed_image, 'wb') as handler:\n",
    "        handler.write(img_data)"
   ]
  },
  {
   "cell_type": "code",
   "execution_count": null,
   "metadata": {},
   "outputs": [],
   "source": []
  }
 ],
 "metadata": {
  "kernelspec": {
   "display_name": "custom-env",
   "language": "python",
   "name": "python3"
  },
  "language_info": {
   "codemirror_mode": {
    "name": "ipython",
    "version": 3
   },
   "file_extension": ".py",
   "mimetype": "text/x-python",
   "name": "python",
   "nbconvert_exporter": "python",
   "pygments_lexer": "ipython3",
   "version": "3.12.0"
  }
 },
 "nbformat": 4,
 "nbformat_minor": 2
}
