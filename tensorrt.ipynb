{
 "cells": [
  {
   "cell_type": "code",
   "execution_count": 1,
   "metadata": {},
   "outputs": [
    {
     "name": "stdout",
     "output_type": "stream",
     "text": [
      "✅ ONNX model is valid!\n"
     ]
    }
   ],
   "source": [
    "\n",
    "import onnx\n",
    "onnx_model = onnx.load('/workspace/model_repository/nomic-embed-vision/1/model.onnx')\n",
    "onnx.checker.check_model(onnx_model)\n",
    "print('✅ ONNX model is valid!')"
   ]
  }
 ],
 "metadata": {
  "kernelspec": {
   "display_name": "triton-env",
   "language": "python",
   "name": "python3"
  },
  "language_info": {
   "codemirror_mode": {
    "name": "ipython",
    "version": 3
   },
   "file_extension": ".py",
   "mimetype": "text/x-python",
   "name": "python",
   "nbconvert_exporter": "python",
   "pygments_lexer": "ipython3",
   "version": "3.10.12"
  }
 },
 "nbformat": 4,
 "nbformat_minor": 2
}
