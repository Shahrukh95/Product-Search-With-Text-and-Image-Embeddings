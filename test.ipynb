{
 "cells": [
  {
   "cell_type": "code",
   "execution_count": null,
   "metadata": {},
   "outputs": [],
   "source": []
  },
  {
   "cell_type": "code",
   "execution_count": null,
   "metadata": {},
   "outputs": [
    {
     "name": "stderr",
     "output_type": "stream",
     "text": [
      "Traceback (most recent call last):\n",
      "  File \"d:\\My Works\\Challenges\\Sereact\\Embeddings-pipeline\\custom-env\\Lib\\site-packages\\gevent\\_ffi\\loop.py\", line 270, in python_check_callback\n",
      "    def python_check_callback(self, watcher_ptr): # pylint:disable=unused-argument\n",
      "    \n",
      "KeyboardInterrupt\n",
      "2025-02-27T20:33:19Z\n"
     ]
    },
    {
     "ename": "KeyboardInterrupt",
     "evalue": "",
     "output_type": "error",
     "traceback": [
      "\u001b[1;31m---------------------------------------------------------------------------\u001b[0m",
      "\u001b[1;31mKeyboardInterrupt\u001b[0m                         Traceback (most recent call last)",
      "Cell \u001b[1;32mIn[6], line 31\u001b[0m\n\u001b[0;32m     28\u001b[0m outputs \u001b[38;5;241m=\u001b[39m httpclient\u001b[38;5;241m.\u001b[39mInferRequestedOutput(\u001b[38;5;124m\"\u001b[39m\u001b[38;5;124mlast_hidden_state\u001b[39m\u001b[38;5;124m\"\u001b[39m)\n\u001b[0;32m     30\u001b[0m \u001b[38;5;66;03m# Send inference request\u001b[39;00m\n\u001b[1;32m---> 31\u001b[0m response \u001b[38;5;241m=\u001b[39m \u001b[43mclient\u001b[49m\u001b[38;5;241;43m.\u001b[39;49m\u001b[43minfer\u001b[49m\u001b[43m(\u001b[49m\u001b[38;5;124;43m\"\u001b[39;49m\u001b[38;5;124;43mUAE-Large-V1\u001b[39;49m\u001b[38;5;124;43m\"\u001b[39;49m\u001b[43m,\u001b[49m\u001b[43m \u001b[49m\u001b[43minputs\u001b[49m\u001b[38;5;241;43m=\u001b[39;49m\u001b[43m[\u001b[49m\u001b[43minput_ids\u001b[49m\u001b[43m,\u001b[49m\u001b[43m \u001b[49m\u001b[43mattention_mask\u001b[49m\u001b[43m,\u001b[49m\u001b[43m \u001b[49m\u001b[43mtoken_type_ids\u001b[49m\u001b[43m]\u001b[49m\u001b[43m,\u001b[49m\u001b[43m \u001b[49m\u001b[43moutputs\u001b[49m\u001b[38;5;241;43m=\u001b[39;49m\u001b[43m[\u001b[49m\u001b[43moutputs\u001b[49m\u001b[43m]\u001b[49m\u001b[43m)\u001b[49m\n\u001b[0;32m     33\u001b[0m \u001b[38;5;66;03m# Print response embeddings\u001b[39;00m\n\u001b[0;32m     34\u001b[0m \u001b[38;5;28mprint\u001b[39m(response\u001b[38;5;241m.\u001b[39mas_numpy(\u001b[38;5;124m\"\u001b[39m\u001b[38;5;124mlast_hidden_state\u001b[39m\u001b[38;5;124m\"\u001b[39m)[\u001b[38;5;241m0\u001b[39m][\u001b[38;5;241m0\u001b[39m])\n",
      "File \u001b[1;32md:\\My Works\\Challenges\\Sereact\\Embeddings-pipeline\\custom-env\\Lib\\site-packages\\tritonclient\\http\\_client.py:1476\u001b[0m, in \u001b[0;36mInferenceServerClient.infer\u001b[1;34m(self, model_name, inputs, model_version, outputs, request_id, sequence_id, sequence_start, sequence_end, priority, timeout, headers, query_params, request_compression_algorithm, response_compression_algorithm, parameters)\u001b[0m\n\u001b[0;32m   1473\u001b[0m \u001b[38;5;28;01melse\u001b[39;00m:\n\u001b[0;32m   1474\u001b[0m     request_uri \u001b[38;5;241m=\u001b[39m \u001b[38;5;124m\"\u001b[39m\u001b[38;5;124mv2/models/\u001b[39m\u001b[38;5;132;01m{}\u001b[39;00m\u001b[38;5;124m/infer\u001b[39m\u001b[38;5;124m\"\u001b[39m\u001b[38;5;241m.\u001b[39mformat(quote(model_name))\n\u001b[1;32m-> 1476\u001b[0m response \u001b[38;5;241m=\u001b[39m \u001b[38;5;28;43mself\u001b[39;49m\u001b[38;5;241;43m.\u001b[39;49m\u001b[43m_post\u001b[49m\u001b[43m(\u001b[49m\n\u001b[0;32m   1477\u001b[0m \u001b[43m    \u001b[49m\u001b[43mrequest_uri\u001b[49m\u001b[38;5;241;43m=\u001b[39;49m\u001b[43mrequest_uri\u001b[49m\u001b[43m,\u001b[49m\n\u001b[0;32m   1478\u001b[0m \u001b[43m    \u001b[49m\u001b[43mrequest_body\u001b[49m\u001b[38;5;241;43m=\u001b[39;49m\u001b[43mrequest_body\u001b[49m\u001b[43m,\u001b[49m\n\u001b[0;32m   1479\u001b[0m \u001b[43m    \u001b[49m\u001b[43mheaders\u001b[49m\u001b[38;5;241;43m=\u001b[39;49m\u001b[43mheaders\u001b[49m\u001b[43m,\u001b[49m\n\u001b[0;32m   1480\u001b[0m \u001b[43m    \u001b[49m\u001b[43mquery_params\u001b[49m\u001b[38;5;241;43m=\u001b[39;49m\u001b[43mquery_params\u001b[49m\u001b[43m,\u001b[49m\n\u001b[0;32m   1481\u001b[0m \u001b[43m\u001b[49m\u001b[43m)\u001b[49m\n\u001b[0;32m   1482\u001b[0m _raise_if_error(response)\n\u001b[0;32m   1484\u001b[0m \u001b[38;5;28;01mreturn\u001b[39;00m InferResult(response, \u001b[38;5;28mself\u001b[39m\u001b[38;5;241m.\u001b[39m_verbose)\n",
      "File \u001b[1;32md:\\My Works\\Challenges\\Sereact\\Embeddings-pipeline\\custom-env\\Lib\\site-packages\\tritonclient\\http\\_client.py:296\u001b[0m, in \u001b[0;36mInferenceServerClient._post\u001b[1;34m(self, request_uri, request_body, headers, query_params)\u001b[0m\n\u001b[0;32m    293\u001b[0m     \u001b[38;5;28mprint\u001b[39m(\u001b[38;5;124m\"\u001b[39m\u001b[38;5;124mPOST \u001b[39m\u001b[38;5;132;01m{}\u001b[39;00m\u001b[38;5;124m, headers \u001b[39m\u001b[38;5;132;01m{}\u001b[39;00m\u001b[38;5;130;01m\\n\u001b[39;00m\u001b[38;5;132;01m{}\u001b[39;00m\u001b[38;5;124m\"\u001b[39m\u001b[38;5;241m.\u001b[39mformat(request_uri, headers, request_body))\n\u001b[0;32m    295\u001b[0m \u001b[38;5;28;01mif\u001b[39;00m headers \u001b[38;5;129;01mis\u001b[39;00m \u001b[38;5;129;01mnot\u001b[39;00m \u001b[38;5;28;01mNone\u001b[39;00m:\n\u001b[1;32m--> 296\u001b[0m     response \u001b[38;5;241m=\u001b[39m \u001b[38;5;28;43mself\u001b[39;49m\u001b[38;5;241;43m.\u001b[39;49m\u001b[43m_client_stub\u001b[49m\u001b[38;5;241;43m.\u001b[39;49m\u001b[43mpost\u001b[49m\u001b[43m(\u001b[49m\n\u001b[0;32m    297\u001b[0m \u001b[43m        \u001b[49m\u001b[43mrequest_uri\u001b[49m\u001b[38;5;241;43m=\u001b[39;49m\u001b[43mrequest_uri\u001b[49m\u001b[43m,\u001b[49m\u001b[43m \u001b[49m\u001b[43mbody\u001b[49m\u001b[38;5;241;43m=\u001b[39;49m\u001b[43mrequest_body\u001b[49m\u001b[43m,\u001b[49m\u001b[43m \u001b[49m\u001b[43mheaders\u001b[49m\u001b[38;5;241;43m=\u001b[39;49m\u001b[43mheaders\u001b[49m\n\u001b[0;32m    298\u001b[0m \u001b[43m    \u001b[49m\u001b[43m)\u001b[49m\n\u001b[0;32m    299\u001b[0m \u001b[38;5;28;01melse\u001b[39;00m:\n\u001b[0;32m    300\u001b[0m     response \u001b[38;5;241m=\u001b[39m \u001b[38;5;28mself\u001b[39m\u001b[38;5;241m.\u001b[39m_client_stub\u001b[38;5;241m.\u001b[39mpost(\n\u001b[0;32m    301\u001b[0m         request_uri\u001b[38;5;241m=\u001b[39mrequest_uri, body\u001b[38;5;241m=\u001b[39mrequest_body\n\u001b[0;32m    302\u001b[0m     )\n",
      "File \u001b[1;32md:\\My Works\\Challenges\\Sereact\\Embeddings-pipeline\\custom-env\\Lib\\site-packages\\geventhttpclient\\client.py:277\u001b[0m, in \u001b[0;36mHTTPClient.post\u001b[1;34m(self, request_uri, body, headers)\u001b[0m\n\u001b[0;32m    276\u001b[0m \u001b[38;5;28;01mdef\u001b[39;00m\u001b[38;5;250m \u001b[39m\u001b[38;5;21mpost\u001b[39m(\u001b[38;5;28mself\u001b[39m, request_uri, body\u001b[38;5;241m=\u001b[39m\u001b[38;5;124m\"\u001b[39m\u001b[38;5;124m\"\u001b[39m, headers\u001b[38;5;241m=\u001b[39m\u001b[38;5;28;01mNone\u001b[39;00m):\n\u001b[1;32m--> 277\u001b[0m     \u001b[38;5;28;01mreturn\u001b[39;00m \u001b[38;5;28;43mself\u001b[39;49m\u001b[38;5;241;43m.\u001b[39;49m\u001b[43mrequest\u001b[49m\u001b[43m(\u001b[49m\u001b[43mMETHOD_POST\u001b[49m\u001b[43m,\u001b[49m\u001b[43m \u001b[49m\u001b[43mrequest_uri\u001b[49m\u001b[43m,\u001b[49m\u001b[43m \u001b[49m\u001b[43mbody\u001b[49m\u001b[38;5;241;43m=\u001b[39;49m\u001b[43mbody\u001b[49m\u001b[43m,\u001b[49m\u001b[43m \u001b[49m\u001b[43mheaders\u001b[49m\u001b[38;5;241;43m=\u001b[39;49m\u001b[43mheaders\u001b[49m\u001b[43m)\u001b[49m\n",
      "File \u001b[1;32md:\\My Works\\Challenges\\Sereact\\Embeddings-pipeline\\custom-env\\Lib\\site-packages\\geventhttpclient\\client.py:233\u001b[0m, in \u001b[0;36mHTTPClient.request\u001b[1;34m(self, method, request_uri, body, headers)\u001b[0m\n\u001b[0;32m    230\u001b[0m attempts_left \u001b[38;5;241m=\u001b[39m \u001b[38;5;28mself\u001b[39m\u001b[38;5;241m.\u001b[39m_connection_pool\u001b[38;5;241m.\u001b[39msize \u001b[38;5;241m+\u001b[39m \u001b[38;5;241m1\u001b[39m\n\u001b[0;32m    232\u001b[0m \u001b[38;5;28;01mwhile\u001b[39;00m \u001b[38;5;241m1\u001b[39m:\n\u001b[1;32m--> 233\u001b[0m     sock \u001b[38;5;241m=\u001b[39m \u001b[38;5;28;43mself\u001b[39;49m\u001b[38;5;241;43m.\u001b[39;49m\u001b[43m_connection_pool\u001b[49m\u001b[38;5;241;43m.\u001b[39;49m\u001b[43mget_socket\u001b[49m\u001b[43m(\u001b[49m\u001b[43m)\u001b[49m\n\u001b[0;32m    234\u001b[0m     \u001b[38;5;28;01mtry\u001b[39;00m:\n\u001b[0;32m    235\u001b[0m         _request \u001b[38;5;241m=\u001b[39m request\u001b[38;5;241m.\u001b[39mencode()\n",
      "File \u001b[1;32md:\\My Works\\Challenges\\Sereact\\Embeddings-pipeline\\custom-env\\Lib\\site-packages\\geventhttpclient\\connectionpool.py:161\u001b[0m, in \u001b[0;36mConnectionPool.get_socket\u001b[1;34m(self)\u001b[0m\n\u001b[0;32m    159\u001b[0m \u001b[38;5;28;01mexcept\u001b[39;00m gevent\u001b[38;5;241m.\u001b[39mqueue\u001b[38;5;241m.\u001b[39mEmpty:\n\u001b[0;32m    160\u001b[0m     \u001b[38;5;28;01mtry\u001b[39;00m:\n\u001b[1;32m--> 161\u001b[0m         \u001b[38;5;28;01mreturn\u001b[39;00m \u001b[38;5;28;43mself\u001b[39;49m\u001b[38;5;241;43m.\u001b[39;49m\u001b[43m_create_socket\u001b[49m\u001b[43m(\u001b[49m\u001b[43m)\u001b[49m\n\u001b[0;32m    162\u001b[0m     \u001b[38;5;28;01mexcept\u001b[39;00m:  \u001b[38;5;66;03m# noqa\u001b[39;00m\n\u001b[0;32m    163\u001b[0m         \u001b[38;5;28mself\u001b[39m\u001b[38;5;241m.\u001b[39m_semaphore\u001b[38;5;241m.\u001b[39mrelease()\n",
      "File \u001b[1;32md:\\My Works\\Challenges\\Sereact\\Embeddings-pipeline\\custom-env\\Lib\\site-packages\\geventhttpclient\\connectionpool.py:113\u001b[0m, in \u001b[0;36mConnectionPool._create_socket\u001b[1;34m(self)\u001b[0m\n\u001b[0;32m    111\u001b[0m \u001b[38;5;28;01mtry\u001b[39;00m:\n\u001b[0;32m    112\u001b[0m     sock\u001b[38;5;241m.\u001b[39msettimeout(\u001b[38;5;28mself\u001b[39m\u001b[38;5;241m.\u001b[39mconnection_timeout)\n\u001b[1;32m--> 113\u001b[0m     sock \u001b[38;5;241m=\u001b[39m \u001b[38;5;28;43mself\u001b[39;49m\u001b[38;5;241;43m.\u001b[39;49m\u001b[43m_connect_socket\u001b[49m\u001b[43m(\u001b[49m\u001b[43msock\u001b[49m\u001b[43m,\u001b[49m\u001b[43m \u001b[49m\u001b[43msock_info\u001b[49m\u001b[43m[\u001b[49m\u001b[38;5;241;43m-\u001b[39;49m\u001b[38;5;241;43m1\u001b[39;49m\u001b[43m]\u001b[49m\u001b[43m)\u001b[49m\n\u001b[0;32m    114\u001b[0m     \u001b[38;5;28mself\u001b[39m\u001b[38;5;241m.\u001b[39mafter_connect(sock)\n\u001b[0;32m    115\u001b[0m     sock\u001b[38;5;241m.\u001b[39msettimeout(\u001b[38;5;28mself\u001b[39m\u001b[38;5;241m.\u001b[39mnetwork_timeout)\n",
      "File \u001b[1;32md:\\My Works\\Challenges\\Sereact\\Embeddings-pipeline\\custom-env\\Lib\\site-packages\\geventhttpclient\\connectionpool.py:134\u001b[0m, in \u001b[0;36mConnectionPool._connect_socket\u001b[1;34m(self, sock, address)\u001b[0m\n\u001b[0;32m    133\u001b[0m \u001b[38;5;28;01mdef\u001b[39;00m\u001b[38;5;250m \u001b[39m\u001b[38;5;21m_connect_socket\u001b[39m(\u001b[38;5;28mself\u001b[39m, sock, address):\n\u001b[1;32m--> 134\u001b[0m     \u001b[43msock\u001b[49m\u001b[38;5;241;43m.\u001b[39;49m\u001b[43mconnect\u001b[49m\u001b[43m(\u001b[49m\u001b[43maddress\u001b[49m\u001b[43m)\u001b[49m\n\u001b[0;32m    135\u001b[0m     \u001b[38;5;28mself\u001b[39m\u001b[38;5;241m.\u001b[39m_setup_proxy(sock)\n\u001b[0;32m    136\u001b[0m     \u001b[38;5;28;01mreturn\u001b[39;00m sock\n",
      "File \u001b[1;32md:\\My Works\\Challenges\\Sereact\\Embeddings-pipeline\\custom-env\\Lib\\site-packages\\gevent\\_socketcommon.py:586\u001b[0m, in \u001b[0;36mSocketMixin.connect\u001b[1;34m(self, address)\u001b[0m\n\u001b[0;32m    572\u001b[0m \u001b[38;5;250m\u001b[39m\u001b[38;5;124;03m\"\"\"\u001b[39;00m\n\u001b[0;32m    573\u001b[0m \u001b[38;5;124;03mConnect to *address*.\u001b[39;00m\n\u001b[0;32m    574\u001b[0m \n\u001b[1;32m   (...)\u001b[0m\n\u001b[0;32m    578\u001b[0m \u001b[38;5;124;03m    :func:`socket.inet_pton`.\u001b[39;00m\n\u001b[0;32m    579\u001b[0m \u001b[38;5;124;03m\"\"\"\u001b[39;00m\n\u001b[0;32m    580\u001b[0m \u001b[38;5;66;03m# In the standard library, ``connect`` and ``connect_ex`` are implemented\u001b[39;00m\n\u001b[0;32m    581\u001b[0m \u001b[38;5;66;03m# in C, and they both call a C function ``internal_connect`` to do the real\u001b[39;00m\n\u001b[0;32m    582\u001b[0m \u001b[38;5;66;03m# work. This means that it is a visible behaviour difference to have our\u001b[39;00m\n\u001b[0;32m    583\u001b[0m \u001b[38;5;66;03m# Python implementation of ``connect_ex`` simply call ``connect``:\u001b[39;00m\n\u001b[0;32m    584\u001b[0m \u001b[38;5;66;03m# it could be overridden in a subclass or at runtime! Because of our exception handling,\u001b[39;00m\n\u001b[0;32m    585\u001b[0m \u001b[38;5;66;03m# this can make a difference for known subclasses like SSLSocket.\u001b[39;00m\n\u001b[1;32m--> 586\u001b[0m \u001b[38;5;28;43mself\u001b[39;49m\u001b[38;5;241;43m.\u001b[39;49m\u001b[43m_internal_connect\u001b[49m\u001b[43m(\u001b[49m\u001b[43maddress\u001b[49m\u001b[43m)\u001b[49m\n",
      "File \u001b[1;32md:\\My Works\\Challenges\\Sereact\\Embeddings-pipeline\\custom-env\\Lib\\site-packages\\gevent\\_socketcommon.py:636\u001b[0m, in \u001b[0;36mSocketMixin._internal_connect\u001b[1;34m(self, address)\u001b[0m\n\u001b[0;32m    634\u001b[0m     \u001b[38;5;28;01mbreak\u001b[39;00m\n\u001b[0;32m    635\u001b[0m \u001b[38;5;28;01mif\u001b[39;00m (result \u001b[38;5;129;01min\u001b[39;00m (EWOULDBLOCK, EINPROGRESS, EALREADY)) \u001b[38;5;129;01mor\u001b[39;00m (result \u001b[38;5;241m==\u001b[39m EINVAL \u001b[38;5;129;01mand\u001b[39;00m is_windows):\n\u001b[1;32m--> 636\u001b[0m     \u001b[38;5;28;43mself\u001b[39;49m\u001b[38;5;241;43m.\u001b[39;49m\u001b[43m_wait\u001b[49m\u001b[43m(\u001b[49m\u001b[38;5;28;43mself\u001b[39;49m\u001b[38;5;241;43m.\u001b[39;49m\u001b[43m_write_event\u001b[49m\u001b[43m)\u001b[49m\n\u001b[0;32m    637\u001b[0m \u001b[38;5;28;01melse\u001b[39;00m:\n\u001b[0;32m    638\u001b[0m     \u001b[38;5;28;01mif\u001b[39;00m (\u001b[38;5;28misinstance\u001b[39m(address, \u001b[38;5;28mtuple\u001b[39m)\n\u001b[0;32m    639\u001b[0m             \u001b[38;5;129;01mand\u001b[39;00m address[\u001b[38;5;241m0\u001b[39m] \u001b[38;5;241m==\u001b[39m \u001b[38;5;124m'\u001b[39m\u001b[38;5;124mfe80::1\u001b[39m\u001b[38;5;124m'\u001b[39m\n\u001b[0;32m    640\u001b[0m             \u001b[38;5;129;01mand\u001b[39;00m result \u001b[38;5;241m==\u001b[39m EHOSTUNREACH):\n\u001b[1;32m   (...)\u001b[0m\n\u001b[0;32m    648\u001b[0m         \u001b[38;5;66;03m# produce EHOSTUNREACH---I (JAM) can't see how socketmodule.c would avoid\u001b[39;00m\n\u001b[0;32m    649\u001b[0m         \u001b[38;5;66;03m# that. The normal connect just calls connect_ex much like we do.\u001b[39;00m\n",
      "File \u001b[1;32msrc\\\\gevent\\\\_hub_primitives.py:317\u001b[0m, in \u001b[0;36mgevent._gevent_c_hub_primitives.wait_on_socket\u001b[1;34m()\u001b[0m\n",
      "File \u001b[1;32msrc\\\\gevent\\\\_hub_primitives.py:322\u001b[0m, in \u001b[0;36mgevent._gevent_c_hub_primitives.wait_on_socket\u001b[1;34m()\u001b[0m\n",
      "File \u001b[1;32msrc\\\\gevent\\\\_hub_primitives.py:313\u001b[0m, in \u001b[0;36mgevent._gevent_c_hub_primitives._primitive_wait\u001b[1;34m()\u001b[0m\n",
      "File \u001b[1;32msrc\\\\gevent\\\\_hub_primitives.py:314\u001b[0m, in \u001b[0;36mgevent._gevent_c_hub_primitives._primitive_wait\u001b[1;34m()\u001b[0m\n",
      "File \u001b[1;32msrc\\\\gevent\\\\_hub_primitives.py:46\u001b[0m, in \u001b[0;36mgevent._gevent_c_hub_primitives.WaitOperationsGreenlet.wait\u001b[1;34m()\u001b[0m\n",
      "File \u001b[1;32msrc\\\\gevent\\\\_hub_primitives.py:46\u001b[0m, in \u001b[0;36mgevent._gevent_c_hub_primitives.WaitOperationsGreenlet.wait\u001b[1;34m()\u001b[0m\n",
      "File \u001b[1;32msrc\\\\gevent\\\\_hub_primitives.py:55\u001b[0m, in \u001b[0;36mgevent._gevent_c_hub_primitives.WaitOperationsGreenlet.wait\u001b[1;34m()\u001b[0m\n",
      "File \u001b[1;32msrc\\\\gevent\\\\_waiter.py:154\u001b[0m, in \u001b[0;36mgevent._gevent_c_waiter.Waiter.get\u001b[1;34m()\u001b[0m\n",
      "File \u001b[1;32msrc\\\\gevent\\\\_greenlet_primitives.py:61\u001b[0m, in \u001b[0;36mgevent._gevent_c_greenlet_primitives.SwitchOutGreenletWithLoop.switch\u001b[1;34m()\u001b[0m\n",
      "File \u001b[1;32msrc\\\\gevent\\\\_greenlet_primitives.py:61\u001b[0m, in \u001b[0;36mgevent._gevent_c_greenlet_primitives.SwitchOutGreenletWithLoop.switch\u001b[1;34m()\u001b[0m\n",
      "File \u001b[1;32msrc\\\\gevent\\\\_greenlet_primitives.py:65\u001b[0m, in \u001b[0;36mgevent._gevent_c_greenlet_primitives.SwitchOutGreenletWithLoop.switch\u001b[1;34m()\u001b[0m\n",
      "File \u001b[1;32msrc\\\\gevent\\\\_gevent_c_greenlet_primitives.pxd:35\u001b[0m, in \u001b[0;36mgevent._gevent_c_greenlet_primitives._greenlet_switch\u001b[1;34m()\u001b[0m\n",
      "File \u001b[1;32md:\\My Works\\Challenges\\Sereact\\Embeddings-pipeline\\custom-env\\Lib\\site-packages\\gevent\\_ffi\\loop.py:270\u001b[0m, in \u001b[0;36mAbstractCallbacks.python_check_callback\u001b[1;34m(self, watcher_ptr)\u001b[0m\n\u001b[0;32m    267\u001b[0m     watcher\u001b[38;5;241m.\u001b[39mstop()\n\u001b[0;32m    269\u001b[0m \u001b[38;5;28;01mif\u001b[39;00m \u001b[38;5;129;01mnot\u001b[39;00m PYPY:\n\u001b[1;32m--> 270\u001b[0m     \u001b[38;5;28;01mdef\u001b[39;00m\u001b[38;5;250m \u001b[39m\u001b[38;5;21mpython_check_callback\u001b[39m(\u001b[38;5;28mself\u001b[39m, watcher_ptr): \u001b[38;5;66;03m# pylint:disable=unused-argument\u001b[39;00m\n\u001b[0;32m    271\u001b[0m         \u001b[38;5;66;03m# If we have the onerror callback, this is a no-op; all the real\u001b[39;00m\n\u001b[0;32m    272\u001b[0m         \u001b[38;5;66;03m# work to rethrow the exception is done by the onerror callback\u001b[39;00m\n\u001b[0;32m    273\u001b[0m \n\u001b[0;32m    274\u001b[0m         \u001b[38;5;66;03m# NOTE: Unlike the rest of the functions, this is called with a pointer\u001b[39;00m\n\u001b[0;32m    275\u001b[0m         \u001b[38;5;66;03m# to the C level structure, *not* a pointer to the void* that represents a\u001b[39;00m\n\u001b[0;32m    276\u001b[0m         \u001b[38;5;66;03m# <cdata> for the Python Watcher object.\u001b[39;00m\n\u001b[0;32m    277\u001b[0m         \u001b[38;5;28;01mpass\u001b[39;00m\n\u001b[0;32m    278\u001b[0m \u001b[38;5;28;01melse\u001b[39;00m: \u001b[38;5;66;03m# PyPy\u001b[39;00m\n\u001b[0;32m    279\u001b[0m     \u001b[38;5;66;03m# On PyPy, we need the function to have some sort of body, otherwise\u001b[39;00m\n\u001b[0;32m    280\u001b[0m     \u001b[38;5;66;03m# the signal exceptions don't always get caught, *especially* with\u001b[39;00m\n\u001b[1;32m   (...)\u001b[0m\n\u001b[0;32m    284\u001b[0m     \u001b[38;5;66;03m# test_socket's test_sendall_interrupted can hang.\u001b[39;00m\n\u001b[0;32m    285\u001b[0m     \u001b[38;5;66;03m# See https://github.com/gevent/gevent/issues/1112\u001b[39;00m\n",
      "\u001b[1;31mKeyboardInterrupt\u001b[0m: "
     ]
    }
   ],
   "source": [
    "import tritonclient.http as httpclient\n",
    "import numpy as np\n",
    "from transformers import AutoTokenizer\n",
    "\n",
    "# Initialize tokenizer and Triton client\n",
    "tokenizer = AutoTokenizer.from_pretrained(\"WhereIsAI/UAE-Large-V1\")\n",
    "client = httpclient.InferenceServerClient(url=\"fm6oazd6njs2ua-8000.proxy.runpod.net:8000\")\n",
    "\n",
    "# Example input text\n",
    "text = \"a black thing\"\n",
    "inputs = tokenizer(text, return_tensors=\"np\")\n",
    "\n",
    "# Triton requires token_type_ids along with input_ids and attention_mask\n",
    "input_ids = httpclient.InferInput(\"input_ids\", inputs[\"input_ids\"].shape, \"INT64\")\n",
    "attention_mask = httpclient.InferInput(\"attention_mask\", inputs[\"attention_mask\"].shape, \"INT64\")\n",
    "\n",
    "# Ensure token_type_ids exist (some models use it, some don't)\n",
    "if \"token_type_ids\" not in inputs:\n",
    "    inputs[\"token_type_ids\"] = np.zeros_like(inputs[\"input_ids\"])\n",
    "\n",
    "token_type_ids = httpclient.InferInput(\"token_type_ids\", inputs[\"token_type_ids\"].shape, \"INT64\")\n",
    "\n",
    "# Set data for inputs\n",
    "input_ids.set_data_from_numpy(inputs[\"input_ids\"])\n",
    "attention_mask.set_data_from_numpy(inputs[\"attention_mask\"])\n",
    "token_type_ids.set_data_from_numpy(inputs[\"token_type_ids\"])\n",
    "\n",
    "# Define the output tensor\n",
    "outputs = httpclient.InferRequestedOutput(\"last_hidden_state\")\n",
    "\n",
    "# Send inference request\n",
    "response = client.infer(\"UAE-Large-V1\", inputs=[input_ids, attention_mask, token_type_ids], outputs=[outputs])\n",
    "\n",
    "# Print response\n",
    "print(response.as_numpy(\"last_hidden_state\")[0][0])\n"
   ]
  }
 ],
 "metadata": {
  "kernelspec": {
   "display_name": "custom-env",
   "language": "python",
   "name": "python3"
  },
  "language_info": {
   "codemirror_mode": {
    "name": "ipython",
    "version": 3
   },
   "file_extension": ".py",
   "mimetype": "text/x-python",
   "name": "python",
   "nbconvert_exporter": "python",
   "pygments_lexer": "ipython3",
   "version": "3.12.0"
  }
 },
 "nbformat": 4,
 "nbformat_minor": 2
}
