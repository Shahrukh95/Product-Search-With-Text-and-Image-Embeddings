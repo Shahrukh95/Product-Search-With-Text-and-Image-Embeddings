{
 "cells": [
  {
   "cell_type": "code",
   "execution_count": 1,
   "metadata": {},
   "outputs": [],
   "source": [
    "import pandas as pd\n",
    "import requests\n",
    "import matplotlib.pyplot as plt\n",
    "import numpy as np"
   ]
  },
  {
   "cell_type": "code",
   "execution_count": 2,
   "metadata": {},
   "outputs": [],
   "source": [
    "df_amazon = pd.read_csv('dataset/textual/raw/amazon_products.csv')\n",
    "df_categories = pd.read_csv('dataset/textual/raw/amazon_categories.csv')"
   ]
  },
  {
   "cell_type": "code",
   "execution_count": 3,
   "metadata": {},
   "outputs": [],
   "source": [
    "PRODUCTS_PER_CATEGORY = 416"
   ]
  },
  {
   "cell_type": "code",
   "execution_count": 4,
   "metadata": {},
   "outputs": [
    {
     "data": {
      "text/html": [
       "<div>\n",
       "<style scoped>\n",
       "    .dataframe tbody tr th:only-of-type {\n",
       "        vertical-align: middle;\n",
       "    }\n",
       "\n",
       "    .dataframe tbody tr th {\n",
       "        vertical-align: top;\n",
       "    }\n",
       "\n",
       "    .dataframe thead th {\n",
       "        text-align: right;\n",
       "    }\n",
       "</style>\n",
       "<table border=\"1\" class=\"dataframe\">\n",
       "  <thead>\n",
       "    <tr style=\"text-align: right;\">\n",
       "      <th></th>\n",
       "      <th>asin</th>\n",
       "      <th>title</th>\n",
       "      <th>imgUrl</th>\n",
       "      <th>productURL</th>\n",
       "      <th>stars</th>\n",
       "      <th>reviews</th>\n",
       "      <th>price</th>\n",
       "      <th>listPrice</th>\n",
       "      <th>category_id</th>\n",
       "      <th>isBestSeller</th>\n",
       "      <th>boughtInLastMonth</th>\n",
       "    </tr>\n",
       "  </thead>\n",
       "  <tbody>\n",
       "    <tr>\n",
       "      <th>0</th>\n",
       "      <td>B014TMV5YE</td>\n",
       "      <td>Sion Softside Expandable Roller Luggage, Black...</td>\n",
       "      <td>https://m.media-amazon.com/images/I/815dLQKYIY...</td>\n",
       "      <td>https://www.amazon.com/dp/B014TMV5YE</td>\n",
       "      <td>4.5</td>\n",
       "      <td>0</td>\n",
       "      <td>139.99</td>\n",
       "      <td>0.00</td>\n",
       "      <td>104</td>\n",
       "      <td>False</td>\n",
       "      <td>2000</td>\n",
       "    </tr>\n",
       "    <tr>\n",
       "      <th>1</th>\n",
       "      <td>B07GDLCQXV</td>\n",
       "      <td>Luggage Sets Expandable PC+ABS Durable Suitcas...</td>\n",
       "      <td>https://m.media-amazon.com/images/I/81bQlm7vf6...</td>\n",
       "      <td>https://www.amazon.com/dp/B07GDLCQXV</td>\n",
       "      <td>4.5</td>\n",
       "      <td>0</td>\n",
       "      <td>169.99</td>\n",
       "      <td>209.99</td>\n",
       "      <td>104</td>\n",
       "      <td>False</td>\n",
       "      <td>1000</td>\n",
       "    </tr>\n",
       "  </tbody>\n",
       "</table>\n",
       "</div>"
      ],
      "text/plain": [
       "         asin                                              title  \\\n",
       "0  B014TMV5YE  Sion Softside Expandable Roller Luggage, Black...   \n",
       "1  B07GDLCQXV  Luggage Sets Expandable PC+ABS Durable Suitcas...   \n",
       "\n",
       "                                              imgUrl  \\\n",
       "0  https://m.media-amazon.com/images/I/815dLQKYIY...   \n",
       "1  https://m.media-amazon.com/images/I/81bQlm7vf6...   \n",
       "\n",
       "                             productURL  stars  reviews   price  listPrice  \\\n",
       "0  https://www.amazon.com/dp/B014TMV5YE    4.5        0  139.99       0.00   \n",
       "1  https://www.amazon.com/dp/B07GDLCQXV    4.5        0  169.99     209.99   \n",
       "\n",
       "   category_id  isBestSeller  boughtInLastMonth  \n",
       "0          104         False               2000  \n",
       "1          104         False               1000  "
      ]
     },
     "execution_count": 4,
     "metadata": {},
     "output_type": "execute_result"
    }
   ],
   "source": [
    "df_amazon.head(2)"
   ]
  },
  {
   "cell_type": "code",
   "execution_count": 5,
   "metadata": {},
   "outputs": [
    {
     "data": {
      "text/html": [
       "<div>\n",
       "<style scoped>\n",
       "    .dataframe tbody tr th:only-of-type {\n",
       "        vertical-align: middle;\n",
       "    }\n",
       "\n",
       "    .dataframe tbody tr th {\n",
       "        vertical-align: top;\n",
       "    }\n",
       "\n",
       "    .dataframe thead th {\n",
       "        text-align: right;\n",
       "    }\n",
       "</style>\n",
       "<table border=\"1\" class=\"dataframe\">\n",
       "  <thead>\n",
       "    <tr style=\"text-align: right;\">\n",
       "      <th></th>\n",
       "      <th>asin</th>\n",
       "      <th>title</th>\n",
       "      <th>imgUrl</th>\n",
       "      <th>productURL</th>\n",
       "      <th>stars</th>\n",
       "      <th>reviews</th>\n",
       "      <th>price</th>\n",
       "      <th>category_id</th>\n",
       "      <th>isBestSeller</th>\n",
       "      <th>boughtInLastMonth</th>\n",
       "    </tr>\n",
       "  </thead>\n",
       "  <tbody>\n",
       "    <tr>\n",
       "      <th>0</th>\n",
       "      <td>B014TMV5YE</td>\n",
       "      <td>Sion Softside Expandable Roller Luggage, Black...</td>\n",
       "      <td>https://m.media-amazon.com/images/I/815dLQKYIY...</td>\n",
       "      <td>https://www.amazon.com/dp/B014TMV5YE</td>\n",
       "      <td>4.5</td>\n",
       "      <td>0</td>\n",
       "      <td>139.99</td>\n",
       "      <td>104</td>\n",
       "      <td>False</td>\n",
       "      <td>2000</td>\n",
       "    </tr>\n",
       "    <tr>\n",
       "      <th>1</th>\n",
       "      <td>B07GDLCQXV</td>\n",
       "      <td>Luggage Sets Expandable PC+ABS Durable Suitcas...</td>\n",
       "      <td>https://m.media-amazon.com/images/I/81bQlm7vf6...</td>\n",
       "      <td>https://www.amazon.com/dp/B07GDLCQXV</td>\n",
       "      <td>4.5</td>\n",
       "      <td>0</td>\n",
       "      <td>169.99</td>\n",
       "      <td>104</td>\n",
       "      <td>False</td>\n",
       "      <td>1000</td>\n",
       "    </tr>\n",
       "  </tbody>\n",
       "</table>\n",
       "</div>"
      ],
      "text/plain": [
       "         asin                                              title  \\\n",
       "0  B014TMV5YE  Sion Softside Expandable Roller Luggage, Black...   \n",
       "1  B07GDLCQXV  Luggage Sets Expandable PC+ABS Durable Suitcas...   \n",
       "\n",
       "                                              imgUrl  \\\n",
       "0  https://m.media-amazon.com/images/I/815dLQKYIY...   \n",
       "1  https://m.media-amazon.com/images/I/81bQlm7vf6...   \n",
       "\n",
       "                             productURL  stars  reviews   price  category_id  \\\n",
       "0  https://www.amazon.com/dp/B014TMV5YE    4.5        0  139.99          104   \n",
       "1  https://www.amazon.com/dp/B07GDLCQXV    4.5        0  169.99          104   \n",
       "\n",
       "   isBestSeller  boughtInLastMonth  \n",
       "0         False               2000  \n",
       "1         False               1000  "
      ]
     },
     "execution_count": 5,
     "metadata": {},
     "output_type": "execute_result"
    }
   ],
   "source": [
    "df_amazon.drop(columns=['listPrice'], inplace=True)\n",
    "df_amazon.head(2)"
   ]
  },
  {
   "cell_type": "code",
   "execution_count": 6,
   "metadata": {},
   "outputs": [
    {
     "data": {
      "text/plain": [
       "category_id\n",
       "91     28619\n",
       "84     24660\n",
       "270    20846\n",
       "114    19822\n",
       "118    18994\n",
       "       ...  \n",
       "195       76\n",
       "186       50\n",
       "185       42\n",
       "102       40\n",
       "194       22\n",
       "Name: count, Length: 248, dtype: int64"
      ]
     },
     "execution_count": 6,
     "metadata": {},
     "output_type": "execute_result"
    }
   ],
   "source": [
    "category_counts = df_amazon['category_id'].value_counts()\n",
    "category_counts"
   ]
  },
  {
   "cell_type": "code",
   "execution_count": null,
   "metadata": {},
   "outputs": [
    {
     "data": {
      "text/html": [
       "<div>\n",
       "<style scoped>\n",
       "    .dataframe tbody tr th:only-of-type {\n",
       "        vertical-align: middle;\n",
       "    }\n",
       "\n",
       "    .dataframe tbody tr th {\n",
       "        vertical-align: top;\n",
       "    }\n",
       "\n",
       "    .dataframe thead th {\n",
       "        text-align: right;\n",
       "    }\n",
       "</style>\n",
       "<table border=\"1\" class=\"dataframe\">\n",
       "  <thead>\n",
       "    <tr style=\"text-align: right;\">\n",
       "      <th></th>\n",
       "      <th>category_id</th>\n",
       "      <th>category_name</th>\n",
       "    </tr>\n",
       "  </thead>\n",
       "  <tbody>\n",
       "    <tr>\n",
       "      <th>0</th>\n",
       "      <td>116</td>\n",
       "      <td>Women's Clothing</td>\n",
       "    </tr>\n",
       "    <tr>\n",
       "      <th>1</th>\n",
       "      <td>114</td>\n",
       "      <td>Men's Shoes</td>\n",
       "    </tr>\n",
       "  </tbody>\n",
       "</table>\n",
       "</div>"
      ],
      "text/plain": [
       "   category_id     category_name\n",
       "0          116  Women's Clothing\n",
       "1          114       Men's Shoes"
      ]
     },
     "execution_count": 7,
     "metadata": {},
     "output_type": "execute_result"
    }
   ],
   "source": [
    "# SELECT CATEGORIES WITH MORE THAN (THE DEFINED NUMBER OF) PRODUCTS\n",
    "valid_categories = category_counts[category_counts > PRODUCTS_PER_CATEGORY].index\n",
    "\n",
    "# CREATE A LIST OF CATEGORIES. PICK 20 FROM THEM AND SAVE TO CSV - MANUALLY.\n",
    "# choose_cateogies = pd.DataFrame(valid_categories, columns=['category_id']).merge(df_categories, left_on='category_id', right_on='id', how='left').reset_index(drop=True).drop(columns=['id'])\n",
    "# choose_cateogies.to_csv('dataset/textual/temp/choose_categories.csv', index=False)\n",
    "\n",
    "valid_categories = pd.read_csv('dataset/textual/filtered/chosen_categories.csv')\n",
    "valid_categories.head(2)"
   ]
  },
  {
   "cell_type": "code",
   "execution_count": 8,
   "metadata": {},
   "outputs": [
    {
     "name": "stderr",
     "output_type": "stream",
     "text": [
      "C:\\Users\\ShahrukhAzharAhsan\\AppData\\Local\\Temp\\ipykernel_69056\\1394958067.py:2: DeprecationWarning: DataFrameGroupBy.apply operated on the grouping columns. This behavior is deprecated, and in a future version of pandas the grouping columns will be excluded from the operation. Either pass `include_groups=False` to exclude the groupings or explicitly select the grouping columns after groupby to silence this warning.\n",
      "  selected_products = df_amazon[df_amazon['category_id'].isin(valid_categories['category_id'])].groupby('category_id').apply(lambda x: x.sample(n=PRODUCTS_PER_CATEGORY)).reset_index(drop=True)\n"
     ]
    },
    {
     "data": {
      "text/html": [
       "<div>\n",
       "<style scoped>\n",
       "    .dataframe tbody tr th:only-of-type {\n",
       "        vertical-align: middle;\n",
       "    }\n",
       "\n",
       "    .dataframe tbody tr th {\n",
       "        vertical-align: top;\n",
       "    }\n",
       "\n",
       "    .dataframe thead th {\n",
       "        text-align: right;\n",
       "    }\n",
       "</style>\n",
       "<table border=\"1\" class=\"dataframe\">\n",
       "  <thead>\n",
       "    <tr style=\"text-align: right;\">\n",
       "      <th></th>\n",
       "      <th>asin</th>\n",
       "      <th>title</th>\n",
       "      <th>imgUrl</th>\n",
       "      <th>productURL</th>\n",
       "      <th>stars</th>\n",
       "      <th>reviews</th>\n",
       "      <th>price</th>\n",
       "      <th>category_id</th>\n",
       "      <th>isBestSeller</th>\n",
       "      <th>boughtInLastMonth</th>\n",
       "    </tr>\n",
       "  </thead>\n",
       "  <tbody>\n",
       "    <tr>\n",
       "      <th>0</th>\n",
       "      <td>B0BYZQYC3H</td>\n",
       "      <td>New Slim 230W AC Adapter Replacement for Lenov...</td>\n",
       "      <td>https://m.media-amazon.com/images/I/71EfaT-wM1...</td>\n",
       "      <td>https://www.amazon.com/dp/B0BYZQYC3H</td>\n",
       "      <td>3.5</td>\n",
       "      <td>0</td>\n",
       "      <td>39.99</td>\n",
       "      <td>65</td>\n",
       "      <td>False</td>\n",
       "      <td>0</td>\n",
       "    </tr>\n",
       "    <tr>\n",
       "      <th>1</th>\n",
       "      <td>B0C84T7B22</td>\n",
       "      <td>100Pcs Forest Stickers | Forest Trees Animals ...</td>\n",
       "      <td>https://m.media-amazon.com/images/I/81CmApDXnO...</td>\n",
       "      <td>https://www.amazon.com/dp/B0C84T7B22</td>\n",
       "      <td>0.0</td>\n",
       "      <td>0</td>\n",
       "      <td>6.99</td>\n",
       "      <td>65</td>\n",
       "      <td>False</td>\n",
       "      <td>50</td>\n",
       "    </tr>\n",
       "  </tbody>\n",
       "</table>\n",
       "</div>"
      ],
      "text/plain": [
       "         asin                                              title  \\\n",
       "0  B0BYZQYC3H  New Slim 230W AC Adapter Replacement for Lenov...   \n",
       "1  B0C84T7B22  100Pcs Forest Stickers | Forest Trees Animals ...   \n",
       "\n",
       "                                              imgUrl  \\\n",
       "0  https://m.media-amazon.com/images/I/71EfaT-wM1...   \n",
       "1  https://m.media-amazon.com/images/I/81CmApDXnO...   \n",
       "\n",
       "                             productURL  stars  reviews  price  category_id  \\\n",
       "0  https://www.amazon.com/dp/B0BYZQYC3H    3.5        0  39.99           65   \n",
       "1  https://www.amazon.com/dp/B0C84T7B22    0.0        0   6.99           65   \n",
       "\n",
       "   isBestSeller  boughtInLastMonth  \n",
       "0         False                  0  \n",
       "1         False                 50  "
      ]
     },
     "execution_count": 8,
     "metadata": {},
     "output_type": "execute_result"
    }
   ],
   "source": [
    "# SELECT PRODUCTS FROM THE SELECTED CATEGORIES\n",
    "selected_products = df_amazon[df_amazon['category_id'].isin(valid_categories['category_id'])].groupby('category_id').apply(lambda x: x.sample(n=PRODUCTS_PER_CATEGORY)).reset_index(drop=True)\n",
    "selected_products.head(2)"
   ]
  },
  {
   "cell_type": "code",
   "execution_count": 9,
   "metadata": {},
   "outputs": [
    {
     "data": {
      "text/plain": [
       "(4992, 10)"
      ]
     },
     "execution_count": 9,
     "metadata": {},
     "output_type": "execute_result"
    }
   ],
   "source": [
    "selected_products.shape"
   ]
  },
  {
   "cell_type": "code",
   "execution_count": 10,
   "metadata": {},
   "outputs": [
    {
     "data": {
      "text/plain": [
       "(12,)"
      ]
     },
     "execution_count": 10,
     "metadata": {},
     "output_type": "execute_result"
    }
   ],
   "source": [
    "# CHECK THE NUMBER OF CATEGORIES\n",
    "selected_products.groupby('category_id').size().shape"
   ]
  },
  {
   "cell_type": "code",
   "execution_count": 11,
   "metadata": {},
   "outputs": [
    {
     "data": {
      "text/html": [
       "<div>\n",
       "<style scoped>\n",
       "    .dataframe tbody tr th:only-of-type {\n",
       "        vertical-align: middle;\n",
       "    }\n",
       "\n",
       "    .dataframe tbody tr th {\n",
       "        vertical-align: top;\n",
       "    }\n",
       "\n",
       "    .dataframe thead th {\n",
       "        text-align: right;\n",
       "    }\n",
       "</style>\n",
       "<table border=\"1\" class=\"dataframe\">\n",
       "  <thead>\n",
       "    <tr style=\"text-align: right;\">\n",
       "      <th></th>\n",
       "      <th>asin</th>\n",
       "      <th>title</th>\n",
       "      <th>imgUrl</th>\n",
       "      <th>productURL</th>\n",
       "      <th>stars</th>\n",
       "      <th>reviews</th>\n",
       "      <th>price</th>\n",
       "      <th>category_id</th>\n",
       "      <th>isBestSeller</th>\n",
       "      <th>boughtInLastMonth</th>\n",
       "      <th>id</th>\n",
       "      <th>category_name</th>\n",
       "    </tr>\n",
       "  </thead>\n",
       "  <tbody>\n",
       "    <tr>\n",
       "      <th>0</th>\n",
       "      <td>B0BYZQYC3H</td>\n",
       "      <td>New Slim 230W AC Adapter Replacement for Lenov...</td>\n",
       "      <td>https://m.media-amazon.com/images/I/71EfaT-wM1...</td>\n",
       "      <td>https://www.amazon.com/dp/B0BYZQYC3H</td>\n",
       "      <td>3.5</td>\n",
       "      <td>0</td>\n",
       "      <td>39.99</td>\n",
       "      <td>65</td>\n",
       "      <td>False</td>\n",
       "      <td>0</td>\n",
       "      <td>65</td>\n",
       "      <td>Laptop Accessories</td>\n",
       "    </tr>\n",
       "    <tr>\n",
       "      <th>1</th>\n",
       "      <td>B0C84T7B22</td>\n",
       "      <td>100Pcs Forest Stickers | Forest Trees Animals ...</td>\n",
       "      <td>https://m.media-amazon.com/images/I/81CmApDXnO...</td>\n",
       "      <td>https://www.amazon.com/dp/B0C84T7B22</td>\n",
       "      <td>0.0</td>\n",
       "      <td>0</td>\n",
       "      <td>6.99</td>\n",
       "      <td>65</td>\n",
       "      <td>False</td>\n",
       "      <td>50</td>\n",
       "      <td>65</td>\n",
       "      <td>Laptop Accessories</td>\n",
       "    </tr>\n",
       "  </tbody>\n",
       "</table>\n",
       "</div>"
      ],
      "text/plain": [
       "         asin                                              title  \\\n",
       "0  B0BYZQYC3H  New Slim 230W AC Adapter Replacement for Lenov...   \n",
       "1  B0C84T7B22  100Pcs Forest Stickers | Forest Trees Animals ...   \n",
       "\n",
       "                                              imgUrl  \\\n",
       "0  https://m.media-amazon.com/images/I/71EfaT-wM1...   \n",
       "1  https://m.media-amazon.com/images/I/81CmApDXnO...   \n",
       "\n",
       "                             productURL  stars  reviews  price  category_id  \\\n",
       "0  https://www.amazon.com/dp/B0BYZQYC3H    3.5        0  39.99           65   \n",
       "1  https://www.amazon.com/dp/B0C84T7B22    0.0        0   6.99           65   \n",
       "\n",
       "   isBestSeller  boughtInLastMonth  id       category_name  \n",
       "0         False                  0  65  Laptop Accessories  \n",
       "1         False                 50  65  Laptop Accessories  "
      ]
     },
     "execution_count": 11,
     "metadata": {},
     "output_type": "execute_result"
    }
   ],
   "source": [
    "# GET THE CATEGORY NAMES FOR THE SELECTED PRODUCTS\n",
    "selected_products = selected_products.merge(df_categories, left_on='category_id', right_on='id',how='left').reset_index(drop=True)\n",
    "selected_products.head(2)"
   ]
  },
  {
   "cell_type": "code",
   "execution_count": 12,
   "metadata": {},
   "outputs": [
    {
     "data": {
      "text/plain": [
       "category_name\n",
       "Backpacks                       416\n",
       "Dolls & Accessories             416\n",
       "Girls' Shoes                    416\n",
       "Headphones & Earbuds            416\n",
       "Home Storage & Organization     416\n",
       "Laptop Accessories              416\n",
       "Men's Shoes                     416\n",
       "Sports & Fitness                416\n",
       "Televisions & Video Products    416\n",
       "Toys & Games                    416\n",
       "Women's Clothing                416\n",
       "Women's Handbags                416\n",
       "dtype: int64"
      ]
     },
     "execution_count": 12,
     "metadata": {},
     "output_type": "execute_result"
    }
   ],
   "source": [
    "# CHECK IF THERE ARE EQUAL NUMBER OF PRODUCTS IN EACH CATEGORY\n",
    "selected_products.groupby('category_name').size()"
   ]
  },
  {
   "cell_type": "code",
   "execution_count": 13,
   "metadata": {},
   "outputs": [],
   "source": [
    "# Save the final selected products\\\n",
    "selected_products.to_csv('dataset/textual/filtered/selected_products.csv', index=False)"
   ]
  },
  {
   "cell_type": "markdown",
   "metadata": {},
   "source": [
    "Images"
   ]
  },
  {
   "cell_type": "code",
   "execution_count": 14,
   "metadata": {},
   "outputs": [
    {
     "name": "stdout",
     "output_type": "stream",
     "text": [
      "B0BYZQYC3H.jpg\n",
      "B0C84T7B22.jpg\n",
      "B0C587GT98.jpg\n",
      "B01DNF56NO.jpg\n",
      "B08KWKRGPC.jpg\n",
      "B07D583NGN.jpg\n",
      "B07H5JHWN9.jpg\n",
      "B01FQAEVLM.jpg\n",
      "B07KSTMM44.jpg\n",
      "B0CD4FHNRN.jpg\n",
      "B07BSB9F2C.jpg\n",
      "B08B7RWVT5.jpg\n",
      "B085T959R7.jpg\n",
      "B07X5H9NMN.jpg\n",
      "B09XHRCMPH.jpg\n",
      "B09T622PGW.jpg\n",
      "B0BJDQT9ZV.jpg\n",
      "B0784FK71L.jpg\n",
      "B0871W9RZQ.jpg\n",
      "B08MK9T6BH.jpg\n",
      "B09SH68735.jpg\n",
      "B07SSRT9RZ.jpg\n",
      "B08LG2S5XY.jpg\n",
      "B07VD3B14F.jpg\n",
      "B08LQ4NCLZ.jpg\n",
      "B075NVG8X6.jpg\n",
      "B09ZY4LRDJ.jpg\n",
      "B0BN12W7KB.jpg\n",
      "B0BLV5HVSH.jpg\n",
      "B0BV6JG7SW.jpg\n",
      "B09728137S.jpg\n",
      "B0C37WP2PT.jpg\n",
      "B0C2Y24N6W.jpg\n",
      "B09LHKM4SY.jpg\n",
      "B0BZY27RD3.jpg\n",
      "B0C6LMP6BY.jpg\n",
      "B0BPB8V84T.jpg\n",
      "B0BKGVTT21.jpg\n",
      "B0BW8S98QP.jpg\n",
      "B09Y157KTV.jpg\n",
      "B0BRHXZDWG.jpg\n",
      "B089ZXL96Y.jpg\n",
      "B0BB9CXN7J.jpg\n",
      "B0BVQQMNXS.jpg\n",
      "B08B1J3LBF.jpg\n",
      "B0B9RJ6YBM.jpg\n",
      "B0C3XH5MR3.jpg\n",
      "B01MXW9OMN.jpg\n",
      "B0BPSMM86F.jpg\n",
      "B0BJ23PKCP.jpg\n",
      "B09M7ZZLXW.jpg\n",
      "B07D848J6V.jpg\n",
      "B0BG2V5YDF.jpg\n",
      "B07Y8C3KDT.jpg\n",
      "B0BX9MMP8L.jpg\n",
      "B0BMLDST96.jpg\n",
      "B0C7KCN7XB.jpg\n",
      "B08YJSFN4T.jpg\n",
      "B09VT87RBH.jpg\n",
      "B0CC29M6H9.jpg\n",
      "B0C9Q788YC.jpg\n",
      "B0B2QS6LTY.jpg\n",
      "B0C23N3556.jpg\n",
      "B0C7BXNYZL.jpg\n",
      "B0BJV4S4C2.jpg\n",
      "B09V9TDL9M.jpg\n",
      "B0CDW79TNL.jpg\n",
      "B0845RGW39.jpg\n",
      "B09YNPFCXN.jpg\n",
      "B0788BYSSV.jpg\n",
      "B09MHZRSKC.jpg\n",
      "B07S8YNX5R.jpg\n",
      "B07SH4QGG1.jpg\n",
      "B0C7SGXF7B.jpg\n",
      "B01MZ956SX.jpg\n",
      "B075L6SC9B.jpg\n",
      "B0BYVDKBB1.jpg\n",
      "B00HCM6H9W.jpg\n",
      "B0BNKRZV24.jpg\n",
      "B08PH62QKQ.jpg\n",
      "B0B5B4ZNVB.jpg\n",
      "B07T35C5K9.jpg\n",
      "B09YHG2WVR.jpg\n",
      "B0C27SFVZG.jpg\n",
      "B09GPGMDY3.jpg\n",
      "B09CKCDNP3.jpg\n",
      "B00CKYGN3W.jpg\n",
      "B0BNGL1Q5J.jpg\n",
      "B075D7BZBR.jpg\n",
      "B09RMG47Q3.jpg\n",
      "B09MCXV6VC.jpg\n",
      "B09YR4VZ9J.jpg\n",
      "B0C8SJRQ3B.jpg\n",
      "B08VFR19C2.jpg\n",
      "B09XCN1SLT.jpg\n",
      "B0BN3PVKC1.jpg\n",
      "B0BQ2B275J.jpg\n",
      "B00B1SB3K6.jpg\n",
      "B08NC3WD6J.jpg\n",
      "B0C5899763.jpg\n"
     ]
    }
   ],
   "source": [
    "# SAVE THE IMAGES OF THE SELECTED PRODUCTS (AND RENAME THEM WITH THE ASIN)\n",
    "for row in selected_products[['imgUrl', 'asin']].head(100).itertuples():\n",
    "    image_link = row.imgUrl\n",
    "    # print(image_link)\n",
    "    renamed_image = row.asin + \".jpg\"\n",
    "    print(renamed_image)\n",
    "    img_data = requests.get(image_link).content\n",
    "    with open('dataset/images/' + renamed_image, 'wb') as handler:\n",
    "        handler.write(img_data)"
   ]
  },
  {
   "cell_type": "code",
   "execution_count": null,
   "metadata": {},
   "outputs": [],
   "source": []
  }
 ],
 "metadata": {
  "kernelspec": {
   "display_name": "custom-env",
   "language": "python",
   "name": "python3"
  },
  "language_info": {
   "codemirror_mode": {
    "name": "ipython",
    "version": 3
   },
   "file_extension": ".py",
   "mimetype": "text/x-python",
   "name": "python",
   "nbconvert_exporter": "python",
   "pygments_lexer": "ipython3",
   "version": "3.12.0"
  }
 },
 "nbformat": 4,
 "nbformat_minor": 2
}
