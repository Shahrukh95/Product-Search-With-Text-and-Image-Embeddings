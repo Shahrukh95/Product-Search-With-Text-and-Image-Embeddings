{
 "cells": [
  {
   "cell_type": "code",
   "execution_count": 1,
   "metadata": {},
   "outputs": [
    {
     "name": "stdout",
     "output_type": "stream",
     "text": [
      "2.6.0+cu124\n",
      "True\n",
      "12.4\n"
     ]
    }
   ],
   "source": [
    "import torch\n",
    "print(torch.__version__)\n",
    "print(torch.cuda.is_available())\n",
    "print(torch.version.cuda)"
   ]
  },
  {
   "cell_type": "code",
   "execution_count": 2,
   "metadata": {},
   "outputs": [
    {
     "name": "stdout",
     "output_type": "stream",
     "text": [
      "True\n",
      "1\n",
      "NVIDIA GeForce RTX 3050 Ti Laptop GPU\n"
     ]
    }
   ],
   "source": [
    "print(torch.cuda.is_available())  # Should return True\n",
    "print(torch.cuda.device_count())  # Should return >= 1\n",
    "print(torch.cuda.get_device_name(0))  # Should print your GPU name"
   ]
  },
  {
   "cell_type": "code",
   "execution_count": null,
   "metadata": {},
   "outputs": [],
   "source": [
    "import torch\n",
    "from transformers import Blip2Processor, Blip2Model\n",
    "from PIL import Image\n",
    "\n",
    "# Load BLIP-2 Model (OPT version, but FLAN-T5 also available)\n",
    "model = Blip2Model.from_pretrained(\"Salesforce/blip2-opt-2.7b\").to(\"cuda\")\n",
    "processor = Blip2Processor.from_pretrained(\"Salesforce/blip2-opt-2.7b\")"
   ]
  },
  {
   "cell_type": "code",
   "execution_count": null,
   "metadata": {},
   "outputs": [],
   "source": [
    "# Load Image\n",
    "image = Image.open(\"dataset/B0B2XY2RB2.jpg\")\n",
    "\n",
    "# Define Text Query\n",
    "text = \"A pair of socks\"\n",
    "\n",
    "# Process Image + Text Together\n",
    "inputs = processor(images=image, text=text, return_tensors=\"pt\").to(\"cuda\")\n",
    "\n",
    "# Generate Single Multimodal Embedding\n",
    "with torch.no_grad():\n",
    "    outputs = model(**inputs)\n",
    "    fused_embedding = outputs.last_hidden_state.mean(dim=1)  # Mean pooling\n",
    "\n",
    "print(f\"Multimodal Embedding Shape: {fused_embedding.shape}\")  # (1, D)\n"
   ]
  }
 ],
 "metadata": {
  "kernelspec": {
   "display_name": "custom-env",
   "language": "python",
   "name": "python3"
  },
  "language_info": {
   "codemirror_mode": {
    "name": "ipython",
    "version": 3
   },
   "file_extension": ".py",
   "mimetype": "text/x-python",
   "name": "python",
   "nbconvert_exporter": "python",
   "pygments_lexer": "ipython3",
   "version": "3.12.0"
  }
 },
 "nbformat": 4,
 "nbformat_minor": 2
}
