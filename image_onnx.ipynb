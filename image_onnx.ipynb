{
 "cells": [
  {
   "cell_type": "code",
   "execution_count": 4,
   "metadata": {},
   "outputs": [
    {
     "name": "stdout",
     "output_type": "stream",
     "text": [
      "*************** EP Error ***************\n",
      "EP Error /onnxruntime_src/onnxruntime/python/onnxruntime_pybind_state.cc:507 void onnxruntime::python::RegisterTensorRTPluginsAsCustomOps(PySessionOptions&, const onnxruntime::ProviderOptions&) Please install TensorRT libraries as mentioned in the GPU requirements page, make sure they're in the PATH or LD_LIBRARY_PATH, and that your GPU is supported.\n",
      " when using ['TensorrtExecutionProvider', 'CPUExecutionProvider']\n",
      "Falling back to ['CPUExecutionProvider'] and retrying.\n",
      "****************************************\n"
     ]
    },
    {
     "name": "stderr",
     "output_type": "stream",
     "text": [
      "\u001b[1;31m2025-02-27 23:48:24.269165215 [E:onnxruntime:Default, provider_bridge_ort.cc:1848 TryGetProviderInfo_TensorRT] /onnxruntime_src/onnxruntime/core/session/provider_bridge_ort.cc:1539 onnxruntime::Provider& onnxruntime::ProviderLibrary::Get() [ONNXRuntimeError] : 1 : FAIL : Failed to load library libonnxruntime_providers_tensorrt.so with error: libnvinfer.so.10: cannot open shared object file: No such file or directory\n",
      "\u001b[m\n"
     ]
    },
    {
     "name": "stdout",
     "output_type": "stream",
     "text": [
      "Image Embeddings: torch.Size([1, 768])\n"
     ]
    }
   ],
   "source": [
    "import onnxruntime as ort\n",
    "import numpy as np\n",
    "import torch\n",
    "import torch.nn.functional as F\n",
    "from transformers import AutoImageProcessor\n",
    "from PIL import Image\n",
    "import requests\n",
    "\n",
    "# Load the image processor using the preprocessor config\n",
    "processor = AutoImageProcessor.from_pretrained(\"/workspace/onnx-nomic-embed-v1.5\")\n",
    "\n",
    "# Load the ONNX model\n",
    "onnx_model_path = \"/workspace/onnx-nomic-embed-v1.5/model.onnx\"\n",
    "session = ort.InferenceSession(onnx_model_path, providers=[\"TensorrtExecutionProvider\", \"CPUExecutionProvider\"])\n",
    "\n",
    "# Load an image\n",
    "url = 'http://images.cocodataset.org/val2017/000000039769.jpg'\n",
    "image = Image.open(requests.get(url, stream=True).raw)\n",
    "\n",
    "# Preprocess the image\n",
    "inputs = processor(image, return_tensors=\"np\")\n",
    "onnx_inputs = {session.get_inputs()[0].name: inputs[\"pixel_values\"]}\n",
    "\n",
    "# Run inference\n",
    "onnx_outputs = session.run(None, onnx_inputs)\n",
    "\n",
    "# Extract and normalize embeddings\n",
    "img_emb = torch.tensor(onnx_outputs[0])\n",
    "img_embeddings = F.normalize(img_emb[:, 0], p=2, dim=1)\n",
    "\n",
    "print(\"Image Embeddings:\", img_embeddings.shape)\n"
   ]
  },
  {
   "cell_type": "code",
   "execution_count": 2,
   "metadata": {},
   "outputs": [
    {
     "name": "stdout",
     "output_type": "stream",
     "text": [
      "['TensorrtExecutionProvider', 'CUDAExecutionProvider', 'CPUExecutionProvider']\n"
     ]
    }
   ],
   "source": [
    "import onnxruntime as ort\n",
    "print(ort.get_available_providers())\n"
   ]
  },
  {
   "cell_type": "code",
   "execution_count": 9,
   "metadata": {},
   "outputs": [
    {
     "data": {
      "text/plain": [
       "tensor([[ 4.7530e-03, -2.5440e-02,  6.6818e-03, -2.9590e-02, -4.3530e-02,\n",
       "         -1.2267e-02,  2.4384e-03, -3.6055e-02, -7.0345e-02, -1.8580e-02,\n",
       "         -4.4000e-02, -1.7478e-02, -1.3518e-02, -6.2597e-02, -6.4252e-02,\n",
       "         -2.5552e-02,  5.2608e-03, -4.0555e-02, -1.8450e-02,  1.6208e-03,\n",
       "         -5.7390e-02, -1.1387e-02, -2.7568e-02, -1.4647e-02,  3.7186e-02,\n",
       "         -5.9439e-02, -4.8858e-02, -2.7063e-02, -4.7970e-02, -2.9087e-02,\n",
       "         -4.3004e-02, -5.3142e-02, -1.6650e-02, -2.7782e-02, -3.5605e-02,\n",
       "          1.0692e-02, -3.6191e-02, -2.5946e-02, -6.0531e-02, -2.0661e-02,\n",
       "         -3.4341e-02, -3.1145e-02, -3.5184e-02,  1.1067e-02, -4.6758e-02,\n",
       "          2.6561e-03, -2.0196e-02, -5.6646e-02, -4.4105e-02, -3.9693e-02,\n",
       "         -3.0172e-02, -4.7597e-02, -1.8874e-02, -1.5512e-02, -5.8379e-02,\n",
       "         -1.3859e-02, -9.0496e-02, -2.7282e-02, -2.0452e-02,  8.5287e-03,\n",
       "         -2.0871e-02, -3.2452e-02, -2.3347e-02, -1.6193e-02, -4.2960e-02,\n",
       "          3.5033e-02, -1.2709e-02, -6.9701e-02, -3.5198e-02, -3.4142e-02,\n",
       "         -4.0562e-02, -2.4395e-02,  4.0008e-02, -1.1943e-02, -4.9366e-02,\n",
       "          6.2422e-03, -1.5323e-02, -1.4741e-02, -1.1646e-02, -1.8912e-02,\n",
       "         -3.4743e-02,  4.2827e-03, -3.2277e-02,  1.5323e-02, -3.9499e-02,\n",
       "         -4.2261e-02, -2.7524e-02,  8.0766e-03, -3.4414e-02, -6.6314e-03,\n",
       "         -3.4961e-02, -1.5463e-03, -4.4589e-02, -5.0033e-02, -1.6873e-02,\n",
       "         -9.7249e-03, -2.2521e-02, -5.0588e-02, -2.5801e-02, -7.2607e-02,\n",
       "         -1.8313e-02, -3.1974e-02, -4.9215e-02, -2.0951e-02, -1.1839e-02,\n",
       "         -3.0824e-03, -7.0742e-02, -3.2698e-02, -2.8997e-02, -7.2490e-02,\n",
       "         -6.5605e-02, -3.9998e-02,  1.2097e-03, -7.3145e-02,  2.1669e-02,\n",
       "         -7.5170e-02, -1.4386e-02, -4.2670e-02, -7.2045e-03,  4.4083e-03,\n",
       "         -3.2662e-02, -3.1826e-02, -4.7407e-02, -5.8360e-02, -4.6230e-02,\n",
       "         -3.3287e-02, -1.0376e-02, -2.6315e-02, -1.8649e-02, -4.0167e-02,\n",
       "         -4.7908e-02, -1.9990e-02, -6.3354e-02, -4.4111e-02, -4.4736e-02,\n",
       "         -2.3321e-02, -5.4567e-02, -3.6310e-02, -3.8572e-02, -4.8115e-02,\n",
       "          2.9764e-02, -2.1756e-02, -2.8346e-02, -5.7125e-02, -2.0766e-02,\n",
       "         -2.9320e-02, -4.2181e-02,  1.0799e-02, -4.7739e-02, -2.0949e-02,\n",
       "         -1.2486e-02, -4.5337e-02, -3.3614e-02, -1.8913e-02, -5.1855e-03,\n",
       "         -8.5671e-02, -4.8403e-02, -2.6631e-02, -7.5120e-02,  2.0574e-03,\n",
       "          1.0419e-02, -2.3366e-02, -4.7766e-02,  7.2119e-03, -2.8894e-02,\n",
       "         -3.8332e-02,  1.8429e-02, -6.6536e-03, -4.0490e-02,  1.6021e-02,\n",
       "         -5.2069e-02, -2.9988e-02, -4.2189e-02, -2.7248e-03, -2.0027e-02,\n",
       "          1.1854e-02, -8.5995e-02, -5.2896e-02, -1.0356e-02, -6.1455e-02,\n",
       "         -8.8539e-03, -3.7343e-02, -3.5072e-02, -9.5721e-03, -1.7005e-02,\n",
       "         -4.2591e-03, -4.4311e-02, -1.5698e-02, -4.3150e-02, -1.8565e-02,\n",
       "          1.2111e-02, -3.6293e-02, -5.7517e-02, -2.6818e-02, -4.8751e-02,\n",
       "         -6.6313e-03, -2.2067e-02,  1.0488e-02, -3.0532e-02, -5.9946e-02,\n",
       "         -1.0972e-02, -7.4210e-03, -1.4953e-02, -9.2879e-03, -2.0666e-02,\n",
       "         -1.5368e-02, -7.6889e-02, -1.9115e-02, -5.1875e-02, -2.6919e-02,\n",
       "          2.3710e-02,  1.4605e-03, -2.0356e-03,  7.2330e-03, -2.6471e-02,\n",
       "         -3.1532e-02, -2.1793e-02,  3.8342e-02, -2.0259e-02, -2.8472e-02,\n",
       "         -3.0310e-02, -3.1761e-02, -1.8264e-02, -1.8648e-02, -4.8445e-02,\n",
       "         -2.6207e-02,  9.6749e-03, -1.2354e-02, -8.2127e-03, -1.2677e-02,\n",
       "         -2.5962e-02, -5.5070e-03, -1.9441e-03,  4.5854e-02, -3.6399e-02,\n",
       "         -2.4190e-03, -2.0631e-02,  3.2860e-02, -2.2490e-02,  2.1389e-02,\n",
       "          1.4327e-02, -2.8168e-02, -4.3002e-02,  9.1830e-03, -7.9611e-03,\n",
       "         -6.8383e-02, -6.6422e-02,  7.3501e-03, -5.7948e-02, -3.1470e-03,\n",
       "         -8.6052e-03, -5.9258e-02,  1.9833e-02, -2.5258e-02, -1.3863e-02,\n",
       "         -4.2781e-02, -2.9292e-02, -5.2839e-02, -9.2002e-02, -3.9973e-02,\n",
       "         -4.4964e-02, -7.1026e-03, -2.0886e-02, -2.5520e-02, -3.0984e-02,\n",
       "         -3.5354e-02, -5.9308e-03, -4.3902e-02,  1.9063e-02, -1.9228e-02,\n",
       "         -4.2830e-02, -1.8563e-02,  4.5062e-03, -2.1515e-02, -5.4823e-02,\n",
       "         -5.0880e-02, -1.7487e-02, -2.1279e-02, -2.5243e-02, -2.6289e-02,\n",
       "         -3.7565e-02, -1.9740e-02,  1.3302e-02, -4.1134e-02, -1.3247e-02,\n",
       "         -2.3394e-02, -3.8543e-02, -4.9804e-02, -4.0720e-02, -3.8403e-02,\n",
       "         -1.7446e-02,  2.7116e-02, -3.5767e-02, -4.3943e-02, -3.4563e-02,\n",
       "         -4.9928e-02,  1.8604e-02, -4.9376e-02, -4.4412e-02, -4.2263e-02,\n",
       "         -4.3568e-02, -2.6382e-02, -9.6743e-03,  7.3070e-03,  3.1191e-02,\n",
       "         -4.2628e-02, -5.8710e-02, -3.3718e-02, -1.5891e-02, -8.6100e-03,\n",
       "         -2.6306e-02,  8.8336e-03, -3.0968e-02, -2.6021e-02, -3.9223e-02,\n",
       "         -4.9513e-02,  1.1361e-02, -2.4610e-02, -1.7498e-02, -3.6120e-02,\n",
       "         -1.9887e-02, -5.5993e-02, -1.7918e-03, -4.0499e-02, -1.9499e-02,\n",
       "         -1.1046e-02, -1.3732e-02, -1.7590e-02, -5.1136e-02, -1.8449e-02,\n",
       "         -5.2947e-02, -1.9111e-02, -4.1472e-02, -1.0497e-01,  1.0147e-02,\n",
       "         -1.8098e-02, -8.3063e-03, -1.2680e-02, -3.4481e-02, -2.4660e-02,\n",
       "         -2.4938e-02, -7.0089e-02, -1.8097e-03, -2.6792e-02, -7.7210e-03,\n",
       "          1.4070e-02, -4.5837e-02, -1.6608e-02, -4.7525e-02, -1.8981e-02,\n",
       "         -7.7917e-02, -1.3274e-02,  1.5399e-02, -4.6517e-03, -3.2718e-02,\n",
       "         -4.3562e-02, -3.2297e-02, -3.9938e-02, -5.2876e-02, -2.2433e-02,\n",
       "         -1.6674e-02, -8.6116e-03,  2.0095e-02, -3.2337e-02, -3.3372e-02,\n",
       "         -5.4055e-02, -1.7418e-02, -2.2657e-03, -1.1227e-02, -9.8842e-03,\n",
       "         -1.6492e-02, -4.8981e-02, -4.6440e-02, -3.4802e-02, -1.5258e-02,\n",
       "          2.9814e-02, -6.7776e-02, -4.7514e-02, -4.7385e-02, -2.6401e-02,\n",
       "         -5.7213e-02, -3.7684e-02, -1.6073e-02, -2.1721e-02,  2.6098e-02,\n",
       "         -4.3347e-02, -3.0100e-02, -3.5427e-02, -8.6019e-02, -9.4561e-03,\n",
       "         -2.3743e-02, -4.9749e-02, -2.4618e-02, -6.0527e-02, -1.5605e-02,\n",
       "         -3.8955e-02, -4.9478e-02,  3.9901e-03, -2.4249e-02,  5.0414e-03,\n",
       "         -2.8808e-02, -6.5740e-02, -1.4939e-02, -2.1814e-02, -6.6045e-02,\n",
       "         -4.3778e-02, -1.8290e-02, -1.3810e-02,  1.1403e-02,  1.6822e-02,\n",
       "         -2.9318e-02, -9.5955e-03, -3.5778e-02, -3.4337e-02, -5.0601e-02,\n",
       "          5.4120e-03, -4.6774e-02, -3.4322e-02, -6.0481e-03, -1.4509e-02,\n",
       "         -3.1140e-02, -3.7680e-02,  9.4570e-04, -3.8235e-02, -4.8804e-02,\n",
       "         -2.0570e-02, -3.8554e-02, -1.5123e-02, -2.4162e-02, -8.3761e-02,\n",
       "         -4.7542e-02, -1.0780e-02, -4.6610e-02, -4.5927e-02, -2.2775e-02,\n",
       "         -8.5605e-02, -7.2967e-02, -2.5716e-02, -6.0480e-02, -4.1692e-02,\n",
       "         -4.8769e-02, -5.5497e-02, -6.2266e-02, -1.8011e-02, -1.5345e-02,\n",
       "         -2.6777e-02, -1.2883e-02,  1.9180e-02,  7.7984e-03,  1.6191e-03,\n",
       "         -1.2722e-02, -6.5679e-02, -3.9315e-03,  1.2272e-02, -3.9656e-03,\n",
       "         -3.5766e-02, -3.9698e-02, -1.8285e-03, -1.8483e-02, -3.0987e-02,\n",
       "         -2.6862e-02, -1.9603e-02, -4.9041e-02, -5.7264e-02, -1.3226e-02,\n",
       "         -2.8373e-02,  3.0140e-04, -8.4935e-02, -4.1808e-02, -2.2452e-02,\n",
       "         -6.2594e-02,  1.0177e-03, -4.4939e-03, -5.6260e-02,  6.5402e-04,\n",
       "         -6.6064e-02, -3.6642e-02, -3.4854e-02, -2.7214e-02, -8.1121e-03,\n",
       "         -2.0355e-02, -3.5515e-02, -7.7012e-02, -6.7681e-02, -8.7842e-03,\n",
       "          1.3033e-02, -4.0255e-03, -3.8708e-02, -3.6856e-03, -3.7155e-02,\n",
       "         -6.4570e-04, -1.3251e-02, -1.9912e-02, -5.0206e-02, -6.3270e-02,\n",
       "         -2.7398e-02, -4.6564e-02, -4.2601e-04, -5.9497e-02,  8.4192e-04,\n",
       "         -6.3631e-03, -5.5856e-03, -3.7158e-02,  2.7480e-04, -2.1531e-02,\n",
       "         -6.8941e-03,  2.8824e-03, -8.1676e-02, -1.9854e-02, -6.4591e-02,\n",
       "         -4.7529e-02,  7.6624e-03, -2.5618e-02, -4.0673e-02, -1.4247e-02,\n",
       "         -2.0330e-02, -6.2837e-02, -2.6589e-02,  9.3312e-03, -4.7586e-02,\n",
       "          1.8828e-02, -1.1295e-02, -1.3894e-02, -7.2972e-03, -3.8993e-02,\n",
       "         -4.2017e-02, -3.4767e-02, -3.8683e-02, -4.3657e-02, -3.3871e-02,\n",
       "         -3.0923e-02, -6.3529e-02, -4.6862e-02, -5.2897e-03, -1.2263e-02,\n",
       "         -1.7571e-02, -3.9146e-03, -4.0304e-02, -4.0352e-02, -1.0503e-02,\n",
       "         -3.1629e-02, -1.6251e-02, -5.1716e-02, -5.5326e-02, -5.5010e-02,\n",
       "         -8.6241e-02, -8.7124e-02, -4.3933e-02,  1.1329e-02,  4.3182e-02,\n",
       "         -4.4739e-02, -1.9994e-02, -4.4057e-02, -6.5503e-02, -8.4680e-03,\n",
       "         -7.3514e-03, -9.2868e-03,  8.0088e-03, -2.7352e-02, -3.3736e-02,\n",
       "         -1.9267e-02, -3.1048e-02,  5.3076e-02, -5.3896e-02, -1.5456e-02,\n",
       "         -3.5583e-03, -2.8526e-03, -5.6696e-02, -3.1272e-02, -5.2144e-02,\n",
       "         -7.3058e-02, -3.5088e-02,  2.7542e-02,  5.2227e-02,  6.1110e-03,\n",
       "         -5.3998e-02, -6.4766e-02, -4.1290e-02, -2.1993e-02, -1.6625e-02,\n",
       "         -6.1918e-02, -7.6254e-02, -3.0625e-02, -1.3393e-02,  4.5281e-03,\n",
       "         -3.1921e-02, -4.0016e-02, -4.1683e-03, -1.7847e-02, -1.7352e-02,\n",
       "         -2.3470e-02, -5.3801e-02, -5.7935e-02, -2.5716e-02, -1.1296e-02,\n",
       "         -3.9060e-02,  3.6260e-02, -1.7412e-02, -2.1181e-02, -6.6229e-02,\n",
       "         -5.6720e-02, -5.0417e-02, -2.1441e-02,  1.2661e-02, -4.2477e-02,\n",
       "         -1.0480e-02, -3.3137e-02,  3.3793e-03, -4.0977e-02, -3.3244e-02,\n",
       "         -5.4617e-02, -6.9205e-03, -9.1439e-03, -7.1634e-02, -4.8710e-02,\n",
       "         -3.5205e-02, -1.6153e-02, -3.6632e-02, -3.2892e-02, -4.3403e-02,\n",
       "         -2.1901e-02,  5.2606e-02,  5.5099e-02,  2.0427e-02, -3.7029e-02,\n",
       "         -2.1994e-02, -3.2354e-02, -1.6774e-02, -4.2615e-02,  1.3936e-02,\n",
       "         -4.4827e-02, -5.8330e-02, -5.1287e-02, -1.6717e-02, -1.1592e-02,\n",
       "         -9.8701e-03, -1.2046e-02, -6.6610e-02, -5.1787e-02, -2.7808e-02,\n",
       "          4.8705e-04, -7.3488e-05, -2.3413e-02, -4.2404e-02, -2.7441e-03,\n",
       "         -1.0052e-02, -3.3600e-02, -2.5877e-02, -1.7748e-02, -1.8246e-03,\n",
       "         -4.7743e-02,  1.4246e-02, -1.9832e-02, -2.6063e-02, -5.3588e-02,\n",
       "         -6.7286e-03, -1.6456e-02, -4.3577e-02, -5.5130e-02, -4.1914e-02,\n",
       "         -3.7146e-02, -2.0800e-02, -5.6675e-02,  8.2354e-05, -1.6607e-02,\n",
       "         -4.0575e-02,  6.5792e-03,  9.5931e-03, -1.4388e-02, -1.6658e-02,\n",
       "         -5.7653e-03, -4.1076e-02, -2.3309e-02, -3.1342e-02, -4.6797e-02,\n",
       "         -1.5089e-03, -5.1121e-02, -1.8641e-02, -2.3158e-02, -3.1351e-02,\n",
       "         -4.8282e-02, -3.0828e-02, -2.2256e-02, -3.6361e-02, -1.5063e-02,\n",
       "         -4.4416e-02,  8.8530e-03, -5.7990e-02, -5.5429e-02, -2.0994e-02,\n",
       "         -1.2086e-02, -3.1731e-02, -5.2275e-02, -9.1351e-03, -2.7059e-02,\n",
       "         -8.9792e-03, -1.8342e-02, -1.7158e-02, -1.0246e-02, -6.4018e-02,\n",
       "         -2.9981e-02, -6.1254e-02, -1.6000e-02, -2.4645e-02, -1.2860e-02,\n",
       "         -2.9107e-02, -4.6752e-02, -3.8069e-02,  8.4086e-03,  1.0346e-02,\n",
       "         -2.7012e-02, -1.4661e-02, -4.5444e-02,  1.2516e-03, -3.9524e-02,\n",
       "         -5.7789e-02, -5.6741e-02, -4.1409e-02, -5.8763e-02,  1.4816e-02,\n",
       "         -3.8126e-02, -2.2135e-02,  2.2662e-02, -2.0348e-02, -1.6669e-02,\n",
       "         -4.9549e-03, -4.7689e-02, -5.9352e-02, -4.1581e-02,  2.6769e-04,\n",
       "         -5.4785e-02, -8.6872e-03, -4.1318e-03, -5.0848e-02, -6.3894e-03,\n",
       "         -1.6656e-02, -3.9745e-02, -3.2470e-02, -2.4665e-03, -5.9098e-02,\n",
       "         -2.5449e-02, -4.7901e-02, -3.7745e-02, -5.1975e-02, -2.4618e-02,\n",
       "          9.6086e-03, -4.9348e-03, -3.2046e-02, -2.5765e-02, -2.5532e-02,\n",
       "         -1.6265e-02, -2.6308e-02, -1.0168e-02, -5.3590e-02, -2.7677e-02,\n",
       "          5.2418e-03, -3.6644e-02, -2.6622e-02, -3.5329e-02, -5.0208e-02,\n",
       "         -4.3992e-02, -3.0497e-02, -1.9370e-02, -1.7500e-02, -3.5452e-02,\n",
       "         -4.9680e-02,  7.2904e-03, -3.8696e-02]])"
      ]
     },
     "execution_count": 9,
     "metadata": {},
     "output_type": "execute_result"
    }
   ],
   "source": [
    "img_embeddings"
   ]
  },
  {
   "cell_type": "code",
   "execution_count": null,
   "metadata": {},
   "outputs": [],
   "source": []
  },
  {
   "cell_type": "code",
   "execution_count": 6,
   "metadata": {},
   "outputs": [],
   "source": [
    "from transformers import AutoTokenizer\n",
    "from optimum.onnxruntime import ORTModelForImageClassification\n",
    "\n",
    "model_checkpoint = \"nomic-ai/nomic-embed-vision-v1.5\"\n",
    "save_directory = \"onnx-nomic-embed-vision-v1.5/\""
   ]
  },
  {
   "cell_type": "code",
   "execution_count": null,
   "metadata": {},
   "outputs": [],
   "source": [
    "# Load a model from transformers and export it to ONNX\n",
    "ort_model = ORTModelForImageClassification.from_pretrained(model_checkpoint, export=True, trust_remote_code=True)\n",
    "tokenizer = AutoTokenizer.from_pretrained(model_checkpoint)\n",
    "\n",
    "# Save the onnx model and tokenizer\n",
    "ort_model.save_pretrained(save_directory)\n",
    "tokenizer.save_pretrained(save_directory)"
   ]
  },
  {
   "cell_type": "code",
   "execution_count": null,
   "metadata": {},
   "outputs": [],
   "source": [
    "# Load ONNX - get embeddings"
   ]
  },
  {
   "cell_type": "code",
   "execution_count": 59,
   "metadata": {},
   "outputs": [
    {
     "data": {
      "text/plain": [
       "['Title of Product: Original Replacement Dell 130W Laptop Charger USB C Slim AC Power Adapter for Dell Xps 17,Precision 5550 5530 2in1,XPS 15 2in1 9575，DA130PM170 HA130PM170 0K00F5 K00F5 0M0H25 M0H25 T4V18\\nProduct Image Description: A black power bank, which is a portable charger used to charge electronic devices.\\nProduct Category: Laptop Accessories',\n",
       " 'Title of Product: Griffin Elevator Stand for Laptops - Lift Your Laptop to a Comfortable Viewing Height, Space Grey\\nProduct Image Description: A laptop computer sitting on a stand or a docking station.\\nProduct Category: Laptop Accessories']"
      ]
     },
     "execution_count": 59,
     "metadata": {},
     "output_type": "execute_result"
    }
   ],
   "source": [
    "import pandas as pd\n",
    "df_products = pd.read_csv(\"final_products.csv\")\n",
    "result_array = df_products.apply(lambda row: f\"Title of Product: {row['title']}\\nProduct Image Description: {row['llava_generated_image_caption']}\\nProduct Category: {row['category_name']}\", axis=1).tolist()\n",
    "result_array[:2]"
   ]
  },
  {
   "cell_type": "code",
   "execution_count": 61,
   "metadata": {},
   "outputs": [],
   "source": [
    "from transformers import AutoTokenizer\n",
    "from onnxruntime import InferenceSession\n",
    "\n",
    "\n",
    "\n",
    "tokenizer = AutoTokenizer.from_pretrained(\"WhereIsAI/UAE-Large-V1\")\n",
    "\n",
    "outputs = []\n",
    "inputs = [\n",
    "    'Title of Product: Original Replacement Dell 130W Laptop Charger USB C Slim AC Power Adapter for Dell Xps 17,Precision 5550 5530 2in1,XPS 15 2in1 9575，DA130PM170 HA130PM170 0K00F5 K00F5 0M0H25 M0H25 T4V18\\nProduct Image Description: A black power bank, which is a portable charger used to charge electronic devices.\\nProduct Category: Laptop Accessories',\n",
    "    'Title of Product: Griffin Elevator Stand for Laptops - Lift Your Laptop to a Comfortable Viewing Height, Space Grey\\nProduct Image Description: A laptop computer sitting on a stand or a docking station.\\nProduct Category: Laptop Accessories'\n",
    "]\n",
    "\n",
    "session = InferenceSession(\"onnx/model.onnx\")\n",
    "\n",
    "query_string = tokenizer(str(\"a black thing\"), return_tensors=\"np\")\n",
    "query_embedding = session.run(output_names=[\"last_hidden_state\"], input_feed=dict(query_string))\n",
    "\n",
    "for item in inputs:\n",
    "    input_tokens = tokenizer(str(item), return_tensors=\"np\")\n",
    "    # print(item)\n",
    "    outputs.append(session.run(output_names=[\"last_hidden_state\"], input_feed=dict(input_tokens)))\n",
    "\n"
   ]
  },
  {
   "cell_type": "code",
   "execution_count": 62,
   "metadata": {},
   "outputs": [
    {
     "data": {
      "text/plain": [
       "array([-0.6131097 , -0.90806764,  0.36052167, ..., -0.17835039,\n",
       "        0.14225149, -0.47162902], shape=(1024,), dtype=float32)"
      ]
     },
     "execution_count": 62,
     "metadata": {},
     "output_type": "execute_result"
    }
   ],
   "source": [
    "item_number = 0\n",
    "outputs[item_number][0][0][0]\n",
    "# [-0.39422712, -0.71218926,  0.25285605, ..., -0.55258805,\n",
    "#         -0.31103668, -1.112754  ]"
   ]
  },
  {
   "cell_type": "code",
   "execution_count": 63,
   "metadata": {},
   "outputs": [
    {
     "data": {
      "text/plain": [
       "array([-0.34115973, -0.7469413 , -0.06696676, ...,  0.06408735,\n",
       "       -0.01018069,  0.11800822], shape=(1024,), dtype=float32)"
      ]
     },
     "execution_count": 63,
     "metadata": {},
     "output_type": "execute_result"
    }
   ],
   "source": [
    "query_embedding[0][0][0]"
   ]
  },
  {
   "cell_type": "code",
   "execution_count": 64,
   "metadata": {},
   "outputs": [
    {
     "name": "stdout",
     "output_type": "stream",
     "text": [
      "0.5139134\n",
      "0.5181762\n"
     ]
    }
   ],
   "source": [
    "from scipy import spatial\n",
    "\n",
    "for dv in outputs:\n",
    "    print(1 - spatial.distance.cosine(query_embedding[0][0][0], dv[0][0][0]))\n",
    "    # print(dv[0][0][0])"
   ]
  },
  {
   "cell_type": "code",
   "execution_count": null,
   "metadata": {},
   "outputs": [],
   "source": []
  },
  {
   "cell_type": "code",
   "execution_count": null,
   "metadata": {},
   "outputs": [],
   "source": []
  },
  {
   "cell_type": "code",
   "execution_count": null,
   "metadata": {},
   "outputs": [],
   "source": []
  },
  {
   "cell_type": "code",
   "execution_count": null,
   "metadata": {},
   "outputs": [],
   "source": []
  },
  {
   "cell_type": "code",
   "execution_count": 42,
   "metadata": {},
   "outputs": [
    {
     "name": "stdout",
     "output_type": "stream",
     "text": [
      "['last_hidden_state']\n"
     ]
    }
   ],
   "source": [
    "from transformers.models.distilbert import DistilBertConfig, DistilBertOnnxConfig\n",
    "\n",
    "config = DistilBertConfig()\n",
    "onnx_config = DistilBertOnnxConfig(config)\n",
    "print(list(onnx_config.outputs.keys()))"
   ]
  },
  {
   "cell_type": "code",
   "execution_count": null,
   "metadata": {},
   "outputs": [],
   "source": []
  },
  {
   "cell_type": "code",
   "execution_count": null,
   "metadata": {},
   "outputs": [],
   "source": []
  },
  {
   "cell_type": "code",
   "execution_count": null,
   "metadata": {},
   "outputs": [
    {
     "name": "stderr",
     "output_type": "stream",
     "text": [
      "INFO:sentence_transformers.SentenceTransformer:Use pytorch device_name: cuda\n",
      "INFO:sentence_transformers.SentenceTransformer:Load pretrained SentenceTransformer: distilbert_base_uncased_squad_onnx\n",
      "WARNING:sentence_transformers.SentenceTransformer:No sentence-transformers model found with name distilbert_base_uncased_squad_onnx. Creating a new one with mean pooling.\n",
      "\u001b[0;93m2025-02-27 12:41:23.205791088 [W:onnxruntime:Default, tensorrt_execution_provider.h:90 log] [2025-02-27 12:41:23 WARNING] ModelImporter.cpp:459: Make sure input input_ids has Int64 binding.\u001b[m\n",
      "\u001b[0;93m2025-02-27 12:41:23.205836858 [W:onnxruntime:Default, tensorrt_execution_provider.h:90 log] [2025-02-27 12:41:23 WARNING] ModelImporter.cpp:459: Make sure input attention_mask has Int64 binding.\u001b[m\n",
      "\u001b[0;93m2025-02-27 12:41:24.998398544 [W:onnxruntime:Default, tensorrt_execution_provider.h:90 log] [2025-02-27 12:41:24 WARNING] ModelImporter.cpp:459: Make sure input input_ids has Int64 binding.\u001b[m\n",
      "\u001b[0;93m2025-02-27 12:41:24.998429764 [W:onnxruntime:Default, tensorrt_execution_provider.h:90 log] [2025-02-27 12:41:24 WARNING] ModelImporter.cpp:459: Make sure input attention_mask has Int64 binding.\u001b[m\n",
      "Batches: 100%|██████████| 1/1 [00:06<00:00,  6.04s/it]\n"
     ]
    }
   ],
   "source": [
    "from sentence_transformers import SentenceTransformer\n",
    "\n",
    "model = SentenceTransformer(\"distilbert_base_uncased_squad_onnx\", backend=\"onnx\")"
   ]
  },
  {
   "cell_type": "code",
   "execution_count": 31,
   "metadata": {},
   "outputs": [
    {
     "name": "stderr",
     "output_type": "stream",
     "text": [
      "Batches: 100%|██████████| 1/1 [00:00<00:00, 240.87it/s]\n"
     ]
    },
    {
     "data": {
      "text/plain": [
       "array([[ 0.14351264, -0.13583307,  0.648162  , ..., -0.08970557,\n",
       "         0.28320345, -0.19161642],\n",
       "       [ 0.12950341, -0.48151484,  0.23586589, ..., -0.42174533,\n",
       "        -0.2797937 , -0.28718296]], shape=(2, 1024), dtype=float32)"
      ]
     },
     "execution_count": 31,
     "metadata": {},
     "output_type": "execute_result"
    }
   ],
   "source": [
    "sentences = [\"This is an example sentence\", \"Each sentence is converted\"]\n",
    "embeddings = model.encode(sentences)\n",
    "embeddings"
   ]
  },
  {
   "cell_type": "code",
   "execution_count": 17,
   "metadata": {},
   "outputs": [
    {
     "data": {
      "text/plain": [
       "array([[ 0.14351264, -0.13583307,  0.648162  , ..., -0.08970557,\n",
       "         0.28320345, -0.19161642],\n",
       "       [ 0.12950341, -0.48151484,  0.23586589, ..., -0.42174533,\n",
       "        -0.2797937 , -0.28718296]], shape=(2, 1024), dtype=float32)"
      ]
     },
     "execution_count": 17,
     "metadata": {},
     "output_type": "execute_result"
    }
   ],
   "source": [
    "embeddings"
   ]
  }
 ],
 "metadata": {
  "kernelspec": {
   "display_name": "triton-env",
   "language": "python",
   "name": "python3"
  },
  "language_info": {
   "codemirror_mode": {
    "name": "ipython",
    "version": 3
   },
   "file_extension": ".py",
   "mimetype": "text/x-python",
   "name": "python",
   "nbconvert_exporter": "python",
   "pygments_lexer": "ipython3",
   "version": "3.10.12"
  }
 },
 "nbformat": 4,
 "nbformat_minor": 2
}
